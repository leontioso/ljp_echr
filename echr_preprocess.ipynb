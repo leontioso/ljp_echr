{
 "cells": [
  {
   "cell_type": "code",
   "execution_count": 1,
   "metadata": {},
   "outputs": [],
   "source": [
    "import pandas as pd\n",
    "from nltk.corpus import stopwords\n",
    "import os"
   ]
  },
  {
   "cell_type": "code",
   "execution_count": 2,
   "metadata": {},
   "outputs": [],
   "source": [
    "stop_words = set(stopwords.words('english'))"
   ]
  },
  {
   "cell_type": "code",
   "execution_count": 3,
   "metadata": {},
   "outputs": [],
   "source": [
    "val_folder = './data/EN_dev_Anon/'\n",
    "files = os.listdir(val_folder)\n",
    "files = [val_folder + file for file in files if file.endswith(\".json\")]\n",
    "dfs = []\n",
    "for file in files:\n",
    "    row_df = pd.read_json(file, lines=True)\n",
    "    row_df = row_df[['DATE', 'TEXT', 'VIOLATED_ARTICLES', 'IMPORTANCE']]\n",
    "    dfs.append(row_df)\n",
    "    \n",
    "val_df = pd.concat(dfs, ignore_index=True)   \n",
    "val_df['labels'] = val_df['VIOLATED_ARTICLES'].apply(lambda x: int(bool(x)))\n",
    "val_df['TEXT'] = val_df['TEXT'].apply(lambda x: \" \".join(x))\n",
    "val_df.rename(lambda x: x.lower(), axis=1, inplace=True)"
   ]
  },
  {
   "cell_type": "code",
   "execution_count": 4,
   "metadata": {},
   "outputs": [],
   "source": [
    "test_folder = './data/EN_test_Anon/'\n",
    "files = os.listdir(test_folder)\n",
    "files = [test_folder + file for file in files if file.endswith(\".json\")]\n",
    "dfs = []\n",
    "for file in files:\n",
    "    row_df = pd.read_json(file, lines=True)\n",
    "    row_df = row_df[['DATE', 'TEXT', 'VIOLATED_ARTICLES', 'IMPORTANCE']]\n",
    "    dfs.append(row_df)\n",
    "    \n",
    "test_df = pd.concat(dfs, ignore_index=True)   \n",
    "test_df['labels'] = test_df['VIOLATED_ARTICLES'].apply(lambda x: int(bool(x)))\n",
    "test_df['TEXT'] = test_df['TEXT'].apply(lambda x: \" \".join(x))\n",
    "test_df.rename(lambda x: x.lower(), axis=1, inplace=True)"
   ]
  },
  {
   "cell_type": "code",
   "execution_count": 6,
   "metadata": {},
   "outputs": [],
   "source": [
    "train_folder = './data/EN_train_Anon/'\n",
    "files = os.listdir(train_folder)\n",
    "files = [train_folder + file for file in files if file.endswith(\".json\")]\n",
    "dfs = []\n",
    "for file in files:\n",
    "    row_df = pd.read_json(file, lines=True)\n",
    "    row_df = row_df[['DATE', 'TEXT', 'VIOLATED_ARTICLES',  'IMPORTANCE']]\n",
    "    dfs.append(row_df)\n",
    "    \n",
    "train_df = pd.concat(dfs, ignore_index=True)   \n",
    "train_df['labels'] = train_df['VIOLATED_ARTICLES'].apply(lambda x: int(bool(x)))\n",
    "train_df['TEXT'] = train_df['TEXT'].apply(lambda x: \" \".join(x))\n",
    "train_df.rename(lambda x: x.lower(), axis=1, inplace=True)"
   ]
  },
  {
   "cell_type": "code",
   "execution_count": 7,
   "metadata": {},
   "outputs": [],
   "source": [
    "train_df.to_csv('./data/csv/train_Anon.csv')"
   ]
  },
  {
   "cell_type": "code",
   "execution_count": 8,
   "metadata": {},
   "outputs": [],
   "source": [
    "test_df.to_csv('./data/csv/test_Anon.csv')"
   ]
  },
  {
   "cell_type": "code",
   "execution_count": 9,
   "metadata": {},
   "outputs": [],
   "source": [
    "val_df.to_csv('./data/csv/val_Anon.csv')"
   ]
  }
 ],
 "metadata": {
  "kernelspec": {
   "display_name": "msc_thesis",
   "language": "python",
   "name": "python3"
  },
  "language_info": {
   "codemirror_mode": {
    "name": "ipython",
    "version": 3
   },
   "file_extension": ".py",
   "mimetype": "text/x-python",
   "name": "python",
   "nbconvert_exporter": "python",
   "pygments_lexer": "ipython3",
   "version": "3.10.13"
  }
 },
 "nbformat": 4,
 "nbformat_minor": 2
}
