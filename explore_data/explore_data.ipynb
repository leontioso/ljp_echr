{
 "cells": [
  {
   "cell_type": "code",
   "execution_count": 1,
   "metadata": {},
   "outputs": [],
   "source": [
    "from datasets import load_dataset\n",
    "import pandas as pd"
   ]
  },
  {
   "cell_type": "code",
   "execution_count": 2,
   "metadata": {},
   "outputs": [],
   "source": [
    "echr = load_dataset(\"ecthr_cases\",  \"violation-prediction\")"
   ]
  },
  {
   "cell_type": "code",
   "execution_count": 3,
   "metadata": {},
   "outputs": [],
   "source": [
    "train_dataset, val_dataset, test_dataset = echr['train'], echr['validation'], echr['test']\n",
    "train_dataset, val_dataset, test_dataset = [dataset.map( lambda examples: {\"text\": \"\\n\".join(examples[\"facts\"])}) for dataset in [train_dataset, val_dataset, test_dataset]]\n",
    "train_dataset, val_dataset, test_dataset = [dataset.map( lambda examples: {'labels' :list(1 if examples['labels'][i] else 0 for i in range(len(examples['labels'])))}, batched=True) for dataset in [train_dataset, val_dataset, test_dataset]]"
   ]
  },
  {
   "cell_type": "code",
   "execution_count": 4,
   "metadata": {},
   "outputs": [],
   "source": [
    "train_df = pd.DataFrame(data={'text': train_dataset['text'], 'result': train_dataset['labels'], 'labels': echr['train']['labels'], 'facts': echr['train']['facts']})"
   ]
  },
  {
   "cell_type": "code",
   "execution_count": 5,
   "metadata": {},
   "outputs": [],
   "source": [
    "train_df['result'] = train_df.result.apply(lambda x: 'VIOLATED' if x==1 else 'NON_VIOLATED')"
   ]
  },
  {
   "cell_type": "code",
   "execution_count": 6,
   "metadata": {},
   "outputs": [
    {
     "data": {
      "text/plain": [
       "text      8238\n",
       "result    8238\n",
       "labels    8238\n",
       "facts     8238\n",
       "dtype: int64"
      ]
     },
     "execution_count": 6,
     "metadata": {},
     "output_type": "execute_result"
    }
   ],
   "source": [
    "train_df[train_df['result'] == 'VIOLATED'].count()"
   ]
  },
  {
   "cell_type": "code",
   "execution_count": 7,
   "metadata": {},
   "outputs": [],
   "source": [
    "val_df = pd.DataFrame(data={'text': val_dataset['text'], 'result': val_dataset['labels'], 'labels': echr['validation']['labels'],  'facts': echr['validation']['facts']})\n",
    "val_df['result'] = val_df.result.apply(lambda x: 'VIOLATED' if x==1 else 'NON_VIOLATED')"
   ]
  },
  {
   "cell_type": "code",
   "execution_count": 8,
   "metadata": {},
   "outputs": [
    {
     "data": {
      "text/plain": [
       "text      852\n",
       "result    852\n",
       "labels    852\n",
       "facts     852\n",
       "dtype: int64"
      ]
     },
     "execution_count": 8,
     "metadata": {},
     "output_type": "execute_result"
    }
   ],
   "source": [
    "val_df[val_df['result'] == 'VIOLATED'].count()"
   ]
  },
  {
   "cell_type": "code",
   "execution_count": 9,
   "metadata": {},
   "outputs": [],
   "source": [
    "test_df = pd.DataFrame(data={'text': test_dataset['text'], 'result': test_dataset['labels'], 'labels': echr['test']['labels'],  'facts': echr['test']['facts']})\n",
    "test_df['result'] = test_df.result.apply(lambda x: 'VIOLATED' if x==1 else 'NON_VIOLATED')"
   ]
  },
  {
   "cell_type": "code",
   "execution_count": 10,
   "metadata": {},
   "outputs": [
    {
     "data": {
      "text/plain": [
       "text      865\n",
       "result    865\n",
       "labels    865\n",
       "facts     865\n",
       "dtype: int64"
      ]
     },
     "execution_count": 10,
     "metadata": {},
     "output_type": "execute_result"
    }
   ],
   "source": [
    "test_df[test_df['result'] == 'VIOLATED'].count()"
   ]
  },
  {
   "cell_type": "code",
   "execution_count": 11,
   "metadata": {},
   "outputs": [],
   "source": [
    "train_df['words_count'] = train_df['text'].str.split().apply(lambda x: len(x))\n",
    "test_df['words_count'] = test_df['text'].str.split().apply(lambda x: len(x))\n",
    "val_df['words_count'] = val_df['text'].str.split().apply(lambda x: len(x))"
   ]
  },
  {
   "cell_type": "code",
   "execution_count": 12,
   "metadata": {},
   "outputs": [],
   "source": [
    "total_df = pd.concat([train_df, test_df, val_df], axis=0)"
   ]
  },
  {
   "cell_type": "code",
   "execution_count": 13,
   "metadata": {},
   "outputs": [],
   "source": [
    "non_violated_df = total_df[total_df['result'] == 'NON_VIOLATED'].sample(800)"
   ]
  },
  {
   "cell_type": "code",
   "execution_count": 14,
   "metadata": {},
   "outputs": [
    {
     "data": {
      "text/html": [
       "<div>\n",
       "<style scoped>\n",
       "    .dataframe tbody tr th:only-of-type {\n",
       "        vertical-align: middle;\n",
       "    }\n",
       "\n",
       "    .dataframe tbody tr th {\n",
       "        vertical-align: top;\n",
       "    }\n",
       "\n",
       "    .dataframe thead th {\n",
       "        text-align: right;\n",
       "    }\n",
       "</style>\n",
       "<table border=\"1\" class=\"dataframe\">\n",
       "  <thead>\n",
       "    <tr style=\"text-align: right;\">\n",
       "      <th></th>\n",
       "      <th>text</th>\n",
       "      <th>result</th>\n",
       "      <th>labels</th>\n",
       "      <th>facts</th>\n",
       "      <th>words_count</th>\n",
       "    </tr>\n",
       "  </thead>\n",
       "  <tbody>\n",
       "    <tr>\n",
       "      <th>3182</th>\n",
       "      <td>6.  The applicant was born in 1969 and, before...</td>\n",
       "      <td>NON_VIOLATED</td>\n",
       "      <td>[]</td>\n",
       "      <td>[6.  The applicant was born in 1969 and, befor...</td>\n",
       "      <td>394</td>\n",
       "    </tr>\n",
       "    <tr>\n",
       "      <th>8810</th>\n",
       "      <td>5.  The applicant was born in 1982 and lives i...</td>\n",
       "      <td>NON_VIOLATED</td>\n",
       "      <td>[]</td>\n",
       "      <td>[5.  The applicant was born in 1982 and lives ...</td>\n",
       "      <td>3445</td>\n",
       "    </tr>\n",
       "    <tr>\n",
       "      <th>528</th>\n",
       "      <td>5.  The applicant was born in 1977 and lives i...</td>\n",
       "      <td>NON_VIOLATED</td>\n",
       "      <td>[]</td>\n",
       "      <td>[5.  The applicant was born in 1977 and lives ...</td>\n",
       "      <td>2611</td>\n",
       "    </tr>\n",
       "    <tr>\n",
       "      <th>43</th>\n",
       "      <td>9.  The applicant made the following allegatio...</td>\n",
       "      <td>NON_VIOLATED</td>\n",
       "      <td>[]</td>\n",
       "      <td>[9.  The applicant made the following allegati...</td>\n",
       "      <td>3608</td>\n",
       "    </tr>\n",
       "    <tr>\n",
       "      <th>966</th>\n",
       "      <td>7.  The applicants, Olavi Puolitaival and Esko...</td>\n",
       "      <td>NON_VIOLATED</td>\n",
       "      <td>[]</td>\n",
       "      <td>[7.  The applicants, Olavi Puolitaival and Esk...</td>\n",
       "      <td>1030</td>\n",
       "    </tr>\n",
       "    <tr>\n",
       "      <th>...</th>\n",
       "      <td>...</td>\n",
       "      <td>...</td>\n",
       "      <td>...</td>\n",
       "      <td>...</td>\n",
       "      <td>...</td>\n",
       "    </tr>\n",
       "    <tr>\n",
       "      <th>1210</th>\n",
       "      <td>11.  The applicant company is an airline chart...</td>\n",
       "      <td>NON_VIOLATED</td>\n",
       "      <td>[]</td>\n",
       "      <td>[11.  The applicant company is an airline char...</td>\n",
       "      <td>10359</td>\n",
       "    </tr>\n",
       "    <tr>\n",
       "      <th>7382</th>\n",
       "      <td>5.  The applicant was born in 1973 and lives i...</td>\n",
       "      <td>NON_VIOLATED</td>\n",
       "      <td>[]</td>\n",
       "      <td>[5.  The applicant was born in 1973 and lives ...</td>\n",
       "      <td>1998</td>\n",
       "    </tr>\n",
       "    <tr>\n",
       "      <th>7154</th>\n",
       "      <td>5.  The applicant was born in 1945 and lives i...</td>\n",
       "      <td>NON_VIOLATED</td>\n",
       "      <td>[]</td>\n",
       "      <td>[5.  The applicant was born in 1945 and lives ...</td>\n",
       "      <td>729</td>\n",
       "    </tr>\n",
       "    <tr>\n",
       "      <th>7736</th>\n",
       "      <td>6.  The first applicant, Ms Zita Paliukienė, w...</td>\n",
       "      <td>NON_VIOLATED</td>\n",
       "      <td>[]</td>\n",
       "      <td>[6.  The first applicant, Ms Zita Paliukienė, ...</td>\n",
       "      <td>2987</td>\n",
       "    </tr>\n",
       "    <tr>\n",
       "      <th>2954</th>\n",
       "      <td>4.  The applicant was born in 1971 and lives i...</td>\n",
       "      <td>NON_VIOLATED</td>\n",
       "      <td>[]</td>\n",
       "      <td>[4.  The applicant was born in 1971 and lives ...</td>\n",
       "      <td>1046</td>\n",
       "    </tr>\n",
       "  </tbody>\n",
       "</table>\n",
       "<p>800 rows × 5 columns</p>\n",
       "</div>"
      ],
      "text/plain": [
       "                                                   text        result labels  \\\n",
       "3182  6.  The applicant was born in 1969 and, before...  NON_VIOLATED     []   \n",
       "8810  5.  The applicant was born in 1982 and lives i...  NON_VIOLATED     []   \n",
       "528   5.  The applicant was born in 1977 and lives i...  NON_VIOLATED     []   \n",
       "43    9.  The applicant made the following allegatio...  NON_VIOLATED     []   \n",
       "966   7.  The applicants, Olavi Puolitaival and Esko...  NON_VIOLATED     []   \n",
       "...                                                 ...           ...    ...   \n",
       "1210  11.  The applicant company is an airline chart...  NON_VIOLATED     []   \n",
       "7382  5.  The applicant was born in 1973 and lives i...  NON_VIOLATED     []   \n",
       "7154  5.  The applicant was born in 1945 and lives i...  NON_VIOLATED     []   \n",
       "7736  6.  The first applicant, Ms Zita Paliukienė, w...  NON_VIOLATED     []   \n",
       "2954  4.  The applicant was born in 1971 and lives i...  NON_VIOLATED     []   \n",
       "\n",
       "                                                  facts  words_count  \n",
       "3182  [6.  The applicant was born in 1969 and, befor...          394  \n",
       "8810  [5.  The applicant was born in 1982 and lives ...         3445  \n",
       "528   [5.  The applicant was born in 1977 and lives ...         2611  \n",
       "43    [9.  The applicant made the following allegati...         3608  \n",
       "966   [7.  The applicants, Olavi Puolitaival and Esk...         1030  \n",
       "...                                                 ...          ...  \n",
       "1210  [11.  The applicant company is an airline char...        10359  \n",
       "7382  [5.  The applicant was born in 1973 and lives ...         1998  \n",
       "7154  [5.  The applicant was born in 1945 and lives ...          729  \n",
       "7736  [6.  The first applicant, Ms Zita Paliukienė, ...         2987  \n",
       "2954  [4.  The applicant was born in 1971 and lives ...         1046  \n",
       "\n",
       "[800 rows x 5 columns]"
      ]
     },
     "execution_count": 14,
     "metadata": {},
     "output_type": "execute_result"
    }
   ],
   "source": [
    "non_violated_df"
   ]
  },
  {
   "cell_type": "code",
   "execution_count": 15,
   "metadata": {},
   "outputs": [],
   "source": [
    "violated_df = total_df[total_df['result'] == 'VIOLATED'].sample(800)"
   ]
  },
  {
   "cell_type": "code",
   "execution_count": 16,
   "metadata": {},
   "outputs": [
    {
     "data": {
      "text/plain": [
       "1032.5"
      ]
     },
     "execution_count": 16,
     "metadata": {},
     "output_type": "execute_result"
    }
   ],
   "source": [
    "total_df.words_count.median()"
   ]
  },
  {
   "cell_type": "code",
   "execution_count": 17,
   "metadata": {},
   "outputs": [
    {
     "data": {
      "text/plain": [
       "count    11000.000000\n",
       "mean      1662.080455\n",
       "std       1967.597964\n",
       "min         69.000000\n",
       "25%        505.000000\n",
       "50%       1032.500000\n",
       "75%       2069.250000\n",
       "max      35416.000000\n",
       "Name: words_count, dtype: float64"
      ]
     },
     "execution_count": 17,
     "metadata": {},
     "output_type": "execute_result"
    }
   ],
   "source": [
    "total_df.words_count.describe()"
   ]
  },
  {
   "cell_type": "code",
   "execution_count": 18,
   "metadata": {},
   "outputs": [
    {
     "data": {
      "text/plain": [
       "count     9000.000000\n",
       "mean      1619.237111\n",
       "std       1995.117127\n",
       "min         69.000000\n",
       "25%        480.750000\n",
       "50%        984.000000\n",
       "75%       2002.250000\n",
       "max      35416.000000\n",
       "Name: words_count, dtype: float64"
      ]
     },
     "execution_count": 18,
     "metadata": {},
     "output_type": "execute_result"
    }
   ],
   "source": [
    "train_df['words_count'].describe()"
   ]
  },
  {
   "cell_type": "code",
   "execution_count": 19,
   "metadata": {},
   "outputs": [
    {
     "data": {
      "text/plain": [
       "text           8238\n",
       "result         8238\n",
       "labels         8238\n",
       "facts          8238\n",
       "words_count    8238\n",
       "dtype: int64"
      ]
     },
     "execution_count": 19,
     "metadata": {},
     "output_type": "execute_result"
    }
   ],
   "source": [
    "train_df[train_df['result'] == 'VIOLATED'].count()"
   ]
  },
  {
   "cell_type": "code",
   "execution_count": 20,
   "metadata": {},
   "outputs": [
    {
     "data": {
      "text/plain": [
       "text           762\n",
       "result         762\n",
       "labels         762\n",
       "facts          762\n",
       "words_count    762\n",
       "dtype: int64"
      ]
     },
     "execution_count": 20,
     "metadata": {},
     "output_type": "execute_result"
    }
   ],
   "source": [
    "train_df[train_df['result'] == 'NON_VIOLATED'].count()"
   ]
  },
  {
   "cell_type": "code",
   "execution_count": 21,
   "metadata": {},
   "outputs": [
    {
     "data": {
      "text/plain": [
       "text           1045\n",
       "result         1045\n",
       "labels         1045\n",
       "facts          1045\n",
       "words_count    1045\n",
       "dtype: int64"
      ]
     },
     "execution_count": 21,
     "metadata": {},
     "output_type": "execute_result"
    }
   ],
   "source": [
    "total_df[total_df['result'] == 'NON_VIOLATED'].count()"
   ]
  },
  {
   "cell_type": "code",
   "execution_count": 22,
   "metadata": {},
   "outputs": [
    {
     "data": {
      "text/plain": [
       "(11000, 5)"
      ]
     },
     "execution_count": 22,
     "metadata": {},
     "output_type": "execute_result"
    }
   ],
   "source": [
    "total_df.shape"
   ]
  },
  {
   "cell_type": "code",
   "execution_count": 23,
   "metadata": {},
   "outputs": [
    {
     "data": {
      "text/plain": [
       "(9000, 5)"
      ]
     },
     "execution_count": 23,
     "metadata": {},
     "output_type": "execute_result"
    }
   ],
   "source": [
    "train_df.shape"
   ]
  },
  {
   "cell_type": "code",
   "execution_count": 24,
   "metadata": {},
   "outputs": [
    {
     "data": {
      "text/plain": [
       "(1000, 5)"
      ]
     },
     "execution_count": 24,
     "metadata": {},
     "output_type": "execute_result"
    }
   ],
   "source": [
    "test_df.shape"
   ]
  },
  {
   "cell_type": "code",
   "execution_count": 25,
   "metadata": {},
   "outputs": [
    {
     "data": {
      "text/plain": [
       "(1000, 5)"
      ]
     },
     "execution_count": 25,
     "metadata": {},
     "output_type": "execute_result"
    }
   ],
   "source": [
    "val_df.shape"
   ]
  },
  {
   "cell_type": "code",
   "execution_count": 28,
   "metadata": {},
   "outputs": [],
   "source": [
    "total_df.loc[0, 'facts'].to_csv('facts.csv')"
   ]
  },
  {
   "cell_type": "code",
   "execution_count": 30,
   "metadata": {},
   "outputs": [],
   "source": [
    "total_df.loc[0, 'text'].to_csv('text.csv')"
   ]
  },
  {
   "cell_type": "code",
   "execution_count": null,
   "metadata": {},
   "outputs": [],
   "source": []
  }
 ],
 "metadata": {
  "kernelspec": {
   "display_name": "msc_thesis",
   "language": "python",
   "name": "python3"
  },
  "language_info": {
   "codemirror_mode": {
    "name": "ipython",
    "version": 3
   },
   "file_extension": ".py",
   "mimetype": "text/x-python",
   "name": "python",
   "nbconvert_exporter": "python",
   "pygments_lexer": "ipython3",
   "version": "3.10.13"
  }
 },
 "nbformat": 4,
 "nbformat_minor": 2
}
