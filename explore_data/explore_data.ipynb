{
 "cells": [
  {
   "cell_type": "code",
   "execution_count": 1,
   "metadata": {},
   "outputs": [],
   "source": [
    "from datasets import load_dataset\n",
    "import pandas as pd"
   ]
  },
  {
   "cell_type": "code",
   "execution_count": 2,
   "metadata": {},
   "outputs": [],
   "source": [
    "echr = load_dataset(\"ecthr_cases\",  \"violation-prediction\")"
   ]
  },
  {
   "cell_type": "code",
   "execution_count": 3,
   "metadata": {},
   "outputs": [],
   "source": [
    "train_dataset, val_dataset, test_dataset = echr['train'], echr['validation'], echr['test']\n",
    "train_dataset, val_dataset, test_dataset = [dataset.map( lambda examples: {\"text\": \"\\n\".join(examples[\"facts\"])}) for dataset in [train_dataset, val_dataset, test_dataset]]\n",
    "train_dataset, val_dataset, test_dataset = [dataset.map( lambda examples: {'labels' :list(1 if examples['labels'][i] else 0 for i in range(len(examples['labels'])))}, batched=True) for dataset in [train_dataset, val_dataset, test_dataset]]"
   ]
  },
  {
   "cell_type": "code",
   "execution_count": 4,
   "metadata": {},
   "outputs": [],
   "source": [
    "train_df = pd.DataFrame(data={'text': train_dataset['text'], 'result': train_dataset['labels'], 'labels': echr['train']['labels'], 'facts': echr['train']['facts']})"
   ]
  },
  {
   "cell_type": "code",
   "execution_count": 5,
   "metadata": {},
   "outputs": [],
   "source": [
    "train_df['result'] = train_df.result.apply(lambda x: 'VIOLATED' if x==1 else 'NON_VIOLATED')"
   ]
  },
  {
   "cell_type": "code",
   "execution_count": 6,
   "metadata": {},
   "outputs": [
    {
     "data": {
      "text/plain": [
       "text      8238\n",
       "result    8238\n",
       "labels    8238\n",
       "facts     8238\n",
       "dtype: int64"
      ]
     },
     "execution_count": 6,
     "metadata": {},
     "output_type": "execute_result"
    }
   ],
   "source": [
    "train_df[train_df['result'] == 'VIOLATED'].count()"
   ]
  },
  {
   "cell_type": "code",
   "execution_count": 7,
   "metadata": {},
   "outputs": [],
   "source": [
    "val_df = pd.DataFrame(data={'text': val_dataset['text'], 'result': val_dataset['labels'], 'labels': echr['validation']['labels'],  'facts': echr['validation']['facts']})\n",
    "val_df['result'] = val_df.result.apply(lambda x: 'VIOLATED' if x==1 else 'NON_VIOLATED')"
   ]
  },
  {
   "cell_type": "code",
   "execution_count": 8,
   "metadata": {},
   "outputs": [
    {
     "data": {
      "text/plain": [
       "text      852\n",
       "result    852\n",
       "labels    852\n",
       "facts     852\n",
       "dtype: int64"
      ]
     },
     "execution_count": 8,
     "metadata": {},
     "output_type": "execute_result"
    }
   ],
   "source": [
    "val_df[val_df['result'] == 'VIOLATED'].count()"
   ]
  },
  {
   "cell_type": "code",
   "execution_count": 9,
   "metadata": {},
   "outputs": [],
   "source": [
    "test_df = pd.DataFrame(data={'text': test_dataset['text'], 'result': test_dataset['labels'], 'labels': echr['test']['labels'],  'facts': echr['test']['facts']})\n",
    "test_df['result'] = test_df.result.apply(lambda x: 'VIOLATED' if x==1 else 'NON_VIOLATED')"
   ]
  },
  {
   "cell_type": "code",
   "execution_count": 10,
   "metadata": {},
   "outputs": [
    {
     "data": {
      "text/plain": [
       "text      865\n",
       "result    865\n",
       "labels    865\n",
       "facts     865\n",
       "dtype: int64"
      ]
     },
     "execution_count": 10,
     "metadata": {},
     "output_type": "execute_result"
    }
   ],
   "source": [
    "test_df[test_df['result'] == 'VIOLATED'].count()"
   ]
  },
  {
   "cell_type": "code",
   "execution_count": 11,
   "metadata": {},
   "outputs": [],
   "source": [
    "train_df['words_count'] = train_df['text'].str.split().apply(lambda x: len(x))\n",
    "test_df['words_count'] = test_df['text'].str.split().apply(lambda x: len(x))\n",
    "val_df['words_count'] = val_df['text'].str.split().apply(lambda x: len(x))"
   ]
  },
  {
   "cell_type": "code",
   "execution_count": 12,
   "metadata": {},
   "outputs": [],
   "source": [
    "total_df = pd.concat([train_df, test_df, val_df], axis=0)"
   ]
  },
  {
   "cell_type": "code",
   "execution_count": 13,
   "metadata": {},
   "outputs": [],
   "source": [
    "non_violated_df = total_df[total_df['result'] == 'NON_VIOLATED'].sample(800)"
   ]
  },
  {
   "cell_type": "code",
   "execution_count": 14,
   "metadata": {},
   "outputs": [
    {
     "data": {
      "text/html": [
       "<div>\n",
       "<style scoped>\n",
       "    .dataframe tbody tr th:only-of-type {\n",
       "        vertical-align: middle;\n",
       "    }\n",
       "\n",
       "    .dataframe tbody tr th {\n",
       "        vertical-align: top;\n",
       "    }\n",
       "\n",
       "    .dataframe thead th {\n",
       "        text-align: right;\n",
       "    }\n",
       "</style>\n",
       "<table border=\"1\" class=\"dataframe\">\n",
       "  <thead>\n",
       "    <tr style=\"text-align: right;\">\n",
       "      <th></th>\n",
       "      <th>text</th>\n",
       "      <th>result</th>\n",
       "      <th>labels</th>\n",
       "      <th>facts</th>\n",
       "      <th>words_count</th>\n",
       "    </tr>\n",
       "  </thead>\n",
       "  <tbody>\n",
       "    <tr>\n",
       "      <th>4151</th>\n",
       "      <td>7.  The applicant was born in 1956 and is curr...</td>\n",
       "      <td>NON_VIOLATED</td>\n",
       "      <td>[]</td>\n",
       "      <td>[7.  The applicant was born in 1956 and is cur...</td>\n",
       "      <td>3645</td>\n",
       "    </tr>\n",
       "    <tr>\n",
       "      <th>1388</th>\n",
       "      <td>7.  The applicant was born in 1941 and lives i...</td>\n",
       "      <td>NON_VIOLATED</td>\n",
       "      <td>[]</td>\n",
       "      <td>[7.  The applicant was born in 1941 and lives ...</td>\n",
       "      <td>1057</td>\n",
       "    </tr>\n",
       "    <tr>\n",
       "      <th>274</th>\n",
       "      <td>4.  The applicant was born in 1966 and lives i...</td>\n",
       "      <td>NON_VIOLATED</td>\n",
       "      <td>[]</td>\n",
       "      <td>[4.  The applicant was born in 1966 and lives ...</td>\n",
       "      <td>4169</td>\n",
       "    </tr>\n",
       "    <tr>\n",
       "      <th>797</th>\n",
       "      <td>5.  The applicant company is a legal entity re...</td>\n",
       "      <td>NON_VIOLATED</td>\n",
       "      <td>[]</td>\n",
       "      <td>[5.  The applicant company is a legal entity r...</td>\n",
       "      <td>2785</td>\n",
       "    </tr>\n",
       "    <tr>\n",
       "      <th>8665</th>\n",
       "      <td>5.  The applicant was born in 1946 and lives i...</td>\n",
       "      <td>NON_VIOLATED</td>\n",
       "      <td>[]</td>\n",
       "      <td>[5.  The applicant was born in 1946 and lives ...</td>\n",
       "      <td>3388</td>\n",
       "    </tr>\n",
       "    <tr>\n",
       "      <th>...</th>\n",
       "      <td>...</td>\n",
       "      <td>...</td>\n",
       "      <td>...</td>\n",
       "      <td>...</td>\n",
       "      <td>...</td>\n",
       "    </tr>\n",
       "    <tr>\n",
       "      <th>818</th>\n",
       "      <td>5.  The first applicant, Franz-Olivier Giesber...</td>\n",
       "      <td>NON_VIOLATED</td>\n",
       "      <td>[]</td>\n",
       "      <td>[5.  The first applicant, Franz-Olivier Giesbe...</td>\n",
       "      <td>7075</td>\n",
       "    </tr>\n",
       "    <tr>\n",
       "      <th>7554</th>\n",
       "      <td>5.  The facts of the case, as submitted by the...</td>\n",
       "      <td>NON_VIOLATED</td>\n",
       "      <td>[]</td>\n",
       "      <td>[5.  The facts of the case, as submitted by th...</td>\n",
       "      <td>1589</td>\n",
       "    </tr>\n",
       "    <tr>\n",
       "      <th>7160</th>\n",
       "      <td>5.  The applicant was born in 1944 and lives i...</td>\n",
       "      <td>NON_VIOLATED</td>\n",
       "      <td>[]</td>\n",
       "      <td>[5.  The applicant was born in 1944 and lives ...</td>\n",
       "      <td>2544</td>\n",
       "    </tr>\n",
       "    <tr>\n",
       "      <th>177</th>\n",
       "      <td>5.  The applicants are sisters, who were born ...</td>\n",
       "      <td>NON_VIOLATED</td>\n",
       "      <td>[]</td>\n",
       "      <td>[5.  The applicants are sisters, who were born...</td>\n",
       "      <td>2709</td>\n",
       "    </tr>\n",
       "    <tr>\n",
       "      <th>5535</th>\n",
       "      <td>6.  The applicant was born in 1946 and lives i...</td>\n",
       "      <td>NON_VIOLATED</td>\n",
       "      <td>[]</td>\n",
       "      <td>[6.  The applicant was born in 1946 and lives ...</td>\n",
       "      <td>3599</td>\n",
       "    </tr>\n",
       "  </tbody>\n",
       "</table>\n",
       "<p>800 rows × 5 columns</p>\n",
       "</div>"
      ],
      "text/plain": [
       "                                                   text        result labels  \\\n",
       "4151  7.  The applicant was born in 1956 and is curr...  NON_VIOLATED     []   \n",
       "1388  7.  The applicant was born in 1941 and lives i...  NON_VIOLATED     []   \n",
       "274   4.  The applicant was born in 1966 and lives i...  NON_VIOLATED     []   \n",
       "797   5.  The applicant company is a legal entity re...  NON_VIOLATED     []   \n",
       "8665  5.  The applicant was born in 1946 and lives i...  NON_VIOLATED     []   \n",
       "...                                                 ...           ...    ...   \n",
       "818   5.  The first applicant, Franz-Olivier Giesber...  NON_VIOLATED     []   \n",
       "7554  5.  The facts of the case, as submitted by the...  NON_VIOLATED     []   \n",
       "7160  5.  The applicant was born in 1944 and lives i...  NON_VIOLATED     []   \n",
       "177   5.  The applicants are sisters, who were born ...  NON_VIOLATED     []   \n",
       "5535  6.  The applicant was born in 1946 and lives i...  NON_VIOLATED     []   \n",
       "\n",
       "                                                  facts  words_count  \n",
       "4151  [7.  The applicant was born in 1956 and is cur...         3645  \n",
       "1388  [7.  The applicant was born in 1941 and lives ...         1057  \n",
       "274   [4.  The applicant was born in 1966 and lives ...         4169  \n",
       "797   [5.  The applicant company is a legal entity r...         2785  \n",
       "8665  [5.  The applicant was born in 1946 and lives ...         3388  \n",
       "...                                                 ...          ...  \n",
       "818   [5.  The first applicant, Franz-Olivier Giesbe...         7075  \n",
       "7554  [5.  The facts of the case, as submitted by th...         1589  \n",
       "7160  [5.  The applicant was born in 1944 and lives ...         2544  \n",
       "177   [5.  The applicants are sisters, who were born...         2709  \n",
       "5535  [6.  The applicant was born in 1946 and lives ...         3599  \n",
       "\n",
       "[800 rows x 5 columns]"
      ]
     },
     "execution_count": 14,
     "metadata": {},
     "output_type": "execute_result"
    }
   ],
   "source": [
    "non_violated_df"
   ]
  },
  {
   "cell_type": "code",
   "execution_count": 15,
   "metadata": {},
   "outputs": [],
   "source": [
    "violated_df = total_df[total_df['result'] == 'VIOLATED'].sample(800)"
   ]
  },
  {
   "cell_type": "code",
   "execution_count": 16,
   "metadata": {},
   "outputs": [
    {
     "data": {
      "text/plain": [
       "1032.5"
      ]
     },
     "execution_count": 16,
     "metadata": {},
     "output_type": "execute_result"
    }
   ],
   "source": [
    "total_df.words_count.median()"
   ]
  },
  {
   "cell_type": "code",
   "execution_count": 17,
   "metadata": {},
   "outputs": [
    {
     "data": {
      "text/plain": [
       "count    11000.000000\n",
       "mean      1662.080455\n",
       "std       1967.597964\n",
       "min         69.000000\n",
       "25%        505.000000\n",
       "50%       1032.500000\n",
       "75%       2069.250000\n",
       "max      35416.000000\n",
       "Name: words_count, dtype: float64"
      ]
     },
     "execution_count": 17,
     "metadata": {},
     "output_type": "execute_result"
    }
   ],
   "source": [
    "total_df.words_count.describe()"
   ]
  },
  {
   "cell_type": "code",
   "execution_count": 18,
   "metadata": {},
   "outputs": [
    {
     "data": {
      "text/plain": [
       "count     9000.000000\n",
       "mean      1619.237111\n",
       "std       1995.117127\n",
       "min         69.000000\n",
       "25%        480.750000\n",
       "50%        984.000000\n",
       "75%       2002.250000\n",
       "max      35416.000000\n",
       "Name: words_count, dtype: float64"
      ]
     },
     "execution_count": 18,
     "metadata": {},
     "output_type": "execute_result"
    }
   ],
   "source": [
    "train_df['words_count'].describe()"
   ]
  },
  {
   "cell_type": "code",
   "execution_count": 19,
   "metadata": {},
   "outputs": [
    {
     "data": {
      "text/plain": [
       "text           8238\n",
       "result         8238\n",
       "labels         8238\n",
       "facts          8238\n",
       "words_count    8238\n",
       "dtype: int64"
      ]
     },
     "execution_count": 19,
     "metadata": {},
     "output_type": "execute_result"
    }
   ],
   "source": [
    "train_df[train_df['result'] == 'VIOLATED'].count()"
   ]
  },
  {
   "cell_type": "code",
   "execution_count": 20,
   "metadata": {},
   "outputs": [
    {
     "data": {
      "text/plain": [
       "text           762\n",
       "result         762\n",
       "labels         762\n",
       "facts          762\n",
       "words_count    762\n",
       "dtype: int64"
      ]
     },
     "execution_count": 20,
     "metadata": {},
     "output_type": "execute_result"
    }
   ],
   "source": [
    "train_df[train_df['result'] == 'NON_VIOLATED'].count()"
   ]
  },
  {
   "cell_type": "code",
   "execution_count": 21,
   "metadata": {},
   "outputs": [
    {
     "data": {
      "text/plain": [
       "text           1045\n",
       "result         1045\n",
       "labels         1045\n",
       "facts          1045\n",
       "words_count    1045\n",
       "dtype: int64"
      ]
     },
     "execution_count": 21,
     "metadata": {},
     "output_type": "execute_result"
    }
   ],
   "source": [
    "total_df[total_df['result'] == 'NON_VIOLATED'].count()"
   ]
  },
  {
   "cell_type": "code",
   "execution_count": 22,
   "metadata": {},
   "outputs": [
    {
     "data": {
      "text/plain": [
       "(11000, 5)"
      ]
     },
     "execution_count": 22,
     "metadata": {},
     "output_type": "execute_result"
    }
   ],
   "source": [
    "total_df.shape"
   ]
  },
  {
   "cell_type": "code",
   "execution_count": 23,
   "metadata": {},
   "outputs": [
    {
     "data": {
      "text/plain": [
       "(9000, 5)"
      ]
     },
     "execution_count": 23,
     "metadata": {},
     "output_type": "execute_result"
    }
   ],
   "source": [
    "train_df.shape"
   ]
  },
  {
   "cell_type": "code",
   "execution_count": 24,
   "metadata": {},
   "outputs": [
    {
     "data": {
      "text/plain": [
       "(1000, 5)"
      ]
     },
     "execution_count": 24,
     "metadata": {},
     "output_type": "execute_result"
    }
   ],
   "source": [
    "test_df.shape"
   ]
  },
  {
   "cell_type": "code",
   "execution_count": 25,
   "metadata": {},
   "outputs": [
    {
     "data": {
      "text/plain": [
       "(1000, 5)"
      ]
     },
     "execution_count": 25,
     "metadata": {},
     "output_type": "execute_result"
    }
   ],
   "source": [
    "val_df.shape"
   ]
  },
  {
   "cell_type": "code",
   "execution_count": 26,
   "metadata": {},
   "outputs": [],
   "source": [
    "total_df.loc[0, 'facts'].to_csv('facts.csv')"
   ]
  },
  {
   "cell_type": "code",
   "execution_count": 27,
   "metadata": {},
   "outputs": [],
   "source": [
    "total_df.loc[0, 'text'].to_csv('text.csv')"
   ]
  },
  {
   "cell_type": "code",
   "execution_count": 30,
   "metadata": {},
   "outputs": [],
   "source": [
    "sub_train_df = train_df[train_df['result'] == 'VIOLATED'].sample(762)"
   ]
  },
  {
   "cell_type": "code",
   "execution_count": 35,
   "metadata": {},
   "outputs": [
    {
     "data": {
      "text/html": [
       "<div>\n",
       "<style scoped>\n",
       "    .dataframe tbody tr th:only-of-type {\n",
       "        vertical-align: middle;\n",
       "    }\n",
       "\n",
       "    .dataframe tbody tr th {\n",
       "        vertical-align: top;\n",
       "    }\n",
       "\n",
       "    .dataframe thead th {\n",
       "        text-align: right;\n",
       "    }\n",
       "</style>\n",
       "<table border=\"1\" class=\"dataframe\">\n",
       "  <thead>\n",
       "    <tr style=\"text-align: right;\">\n",
       "      <th></th>\n",
       "      <th>text</th>\n",
       "      <th>result</th>\n",
       "      <th>labels</th>\n",
       "      <th>facts</th>\n",
       "      <th>words_count</th>\n",
       "    </tr>\n",
       "  </thead>\n",
       "  <tbody>\n",
       "    <tr>\n",
       "      <th>1</th>\n",
       "      <td>9.  The applicant is the monarch of Liechtenst...</td>\n",
       "      <td>NON_VIOLATED</td>\n",
       "      <td>[]</td>\n",
       "      <td>[9.  The applicant is the monarch of Liechtens...</td>\n",
       "      <td>2758</td>\n",
       "    </tr>\n",
       "    <tr>\n",
       "      <th>4</th>\n",
       "      <td>9.  The applicant is an Italian citizen, born ...</td>\n",
       "      <td>NON_VIOLATED</td>\n",
       "      <td>[]</td>\n",
       "      <td>[9.  The applicant is an Italian citizen, born...</td>\n",
       "      <td>571</td>\n",
       "    </tr>\n",
       "    <tr>\n",
       "      <th>11</th>\n",
       "      <td>9.  On 13 August 1992, following proceedings o...</td>\n",
       "      <td>VIOLATED</td>\n",
       "      <td>[5]</td>\n",
       "      <td>[9.  On 13 August 1992, following proceedings ...</td>\n",
       "      <td>835</td>\n",
       "    </tr>\n",
       "    <tr>\n",
       "      <th>12</th>\n",
       "      <td>8.  On 13 January 1993 the applicant was detai...</td>\n",
       "      <td>VIOLATED</td>\n",
       "      <td>[6, 5]</td>\n",
       "      <td>[8.  On 13 January 1993 the applicant was deta...</td>\n",
       "      <td>1486</td>\n",
       "    </tr>\n",
       "    <tr>\n",
       "      <th>14</th>\n",
       "      <td>9.  On 4 October 1993 the applicant was arrest...</td>\n",
       "      <td>VIOLATED</td>\n",
       "      <td>[6, 5]</td>\n",
       "      <td>[9.  On 4 October 1993 the applicant was arres...</td>\n",
       "      <td>3162</td>\n",
       "    </tr>\n",
       "    <tr>\n",
       "      <th>...</th>\n",
       "      <td>...</td>\n",
       "      <td>...</td>\n",
       "      <td>...</td>\n",
       "      <td>...</td>\n",
       "      <td>...</td>\n",
       "    </tr>\n",
       "    <tr>\n",
       "      <th>8983</th>\n",
       "      <td>5.  The applicant party was founded in 2007 an...</td>\n",
       "      <td>NON_VIOLATED</td>\n",
       "      <td>[]</td>\n",
       "      <td>[5.  The applicant party was founded in 2007 a...</td>\n",
       "      <td>1384</td>\n",
       "    </tr>\n",
       "    <tr>\n",
       "      <th>8990</th>\n",
       "      <td>7.  The facts of the case, as submitted by the...</td>\n",
       "      <td>VIOLATED</td>\n",
       "      <td>[8, 14]</td>\n",
       "      <td>[7.  The facts of the case, as submitted by th...</td>\n",
       "      <td>1969</td>\n",
       "    </tr>\n",
       "    <tr>\n",
       "      <th>8992</th>\n",
       "      <td>4.  The applicant was born in 1950 and lives i...</td>\n",
       "      <td>VIOLATED</td>\n",
       "      <td>[6]</td>\n",
       "      <td>[4.  The applicant was born in 1950 and lives ...</td>\n",
       "      <td>332</td>\n",
       "    </tr>\n",
       "    <tr>\n",
       "      <th>8995</th>\n",
       "      <td>5.  The applicant was born in 1960 and lives i...</td>\n",
       "      <td>NON_VIOLATED</td>\n",
       "      <td>[]</td>\n",
       "      <td>[5.  The applicant was born in 1960 and lives ...</td>\n",
       "      <td>2165</td>\n",
       "    </tr>\n",
       "    <tr>\n",
       "      <th>8996</th>\n",
       "      <td>5.  The applicant was born in 1946 and is curr...</td>\n",
       "      <td>NON_VIOLATED</td>\n",
       "      <td>[]</td>\n",
       "      <td>[5.  The applicant was born in 1946 and is cur...</td>\n",
       "      <td>714</td>\n",
       "    </tr>\n",
       "  </tbody>\n",
       "</table>\n",
       "<p>1524 rows × 5 columns</p>\n",
       "</div>"
      ],
      "text/plain": [
       "                                                   text        result  \\\n",
       "1     9.  The applicant is the monarch of Liechtenst...  NON_VIOLATED   \n",
       "4     9.  The applicant is an Italian citizen, born ...  NON_VIOLATED   \n",
       "11    9.  On 13 August 1992, following proceedings o...      VIOLATED   \n",
       "12    8.  On 13 January 1993 the applicant was detai...      VIOLATED   \n",
       "14    9.  On 4 October 1993 the applicant was arrest...      VIOLATED   \n",
       "...                                                 ...           ...   \n",
       "8983  5.  The applicant party was founded in 2007 an...  NON_VIOLATED   \n",
       "8990  7.  The facts of the case, as submitted by the...      VIOLATED   \n",
       "8992  4.  The applicant was born in 1950 and lives i...      VIOLATED   \n",
       "8995  5.  The applicant was born in 1960 and lives i...  NON_VIOLATED   \n",
       "8996  5.  The applicant was born in 1946 and is curr...  NON_VIOLATED   \n",
       "\n",
       "       labels                                              facts  words_count  \n",
       "1          []  [9.  The applicant is the monarch of Liechtens...         2758  \n",
       "4          []  [9.  The applicant is an Italian citizen, born...          571  \n",
       "11        [5]  [9.  On 13 August 1992, following proceedings ...          835  \n",
       "12     [6, 5]  [8.  On 13 January 1993 the applicant was deta...         1486  \n",
       "14     [6, 5]  [9.  On 4 October 1993 the applicant was arres...         3162  \n",
       "...       ...                                                ...          ...  \n",
       "8983       []  [5.  The applicant party was founded in 2007 a...         1384  \n",
       "8990  [8, 14]  [7.  The facts of the case, as submitted by th...         1969  \n",
       "8992      [6]  [4.  The applicant was born in 1950 and lives ...          332  \n",
       "8995       []  [5.  The applicant was born in 1960 and lives ...         2165  \n",
       "8996       []  [5.  The applicant was born in 1946 and is cur...          714  \n",
       "\n",
       "[1524 rows x 5 columns]"
      ]
     },
     "execution_count": 35,
     "metadata": {},
     "output_type": "execute_result"
    }
   ],
   "source": [
    "pd.concat([sub_train_df, train_df[train_df['result'] == 'NON_VIOLATED']]).sort_index()"
   ]
  }
 ],
 "metadata": {
  "kernelspec": {
   "display_name": "msc_thesis",
   "language": "python",
   "name": "python3"
  },
  "language_info": {
   "codemirror_mode": {
    "name": "ipython",
    "version": 3
   },
   "file_extension": ".py",
   "mimetype": "text/x-python",
   "name": "python",
   "nbconvert_exporter": "python",
   "pygments_lexer": "ipython3",
   "version": "3.10.13"
  }
 },
 "nbformat": 4,
 "nbformat_minor": 2
}
