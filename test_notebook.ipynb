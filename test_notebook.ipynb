{
 "cells": [
  {
   "cell_type": "code",
   "execution_count": 2,
   "metadata": {},
   "outputs": [
    {
     "name": "stderr",
     "output_type": "stream",
     "text": [
      "2024-04-26 23:01:42.051653: E tensorflow/compiler/xla/stream_executor/cuda/cuda_dnn.cc:9342] Unable to register cuDNN factory: Attempting to register factory for plugin cuDNN when one has already been registered\n",
      "2024-04-26 23:01:42.051738: E tensorflow/compiler/xla/stream_executor/cuda/cuda_fft.cc:609] Unable to register cuFFT factory: Attempting to register factory for plugin cuFFT when one has already been registered\n",
      "2024-04-26 23:01:42.054037: E tensorflow/compiler/xla/stream_executor/cuda/cuda_blas.cc:1518] Unable to register cuBLAS factory: Attempting to register factory for plugin cuBLAS when one has already been registered\n",
      "2024-04-26 23:01:42.357375: I tensorflow/core/platform/cpu_feature_guard.cc:182] This TensorFlow binary is optimized to use available CPU instructions in performance-critical operations.\n",
      "To enable the following instructions: AVX2 FMA, in other operations, rebuild TensorFlow with the appropriate compiler flags.\n",
      "2024-04-26 23:01:43.891933: W tensorflow/compiler/tf2tensorrt/utils/py_utils.cc:38] TF-TRT Warning: Could not find TensorRT\n"
     ]
    }
   ],
   "source": [
    "from datasets import load_dataset, Dataset\n",
    "from transformers import AutoModelForSequenceClassification, AutoTokenizer, TrainingArguments, Trainer, TextClassificationPipeline\n",
    "import torch\n",
    "from transformers import DataCollatorWithPadding\n",
    "import evaluate\n",
    "import numpy as np\n",
    "from evaluate import evaluator\n",
    "import pandas as pd\n",
    "from math import ceil, floor\n",
    "import nltk\n",
    "from nltk.corpus import stopwords\n",
    "from nltk.tokenize import word_tokenize"
   ]
  },
  {
   "cell_type": "code",
   "execution_count": 3,
   "metadata": {},
   "outputs": [
    {
     "name": "stderr",
     "output_type": "stream",
     "text": [
      "[nltk_data] Downloading package stopwords to\n",
      "[nltk_data]     /home/leontioso/nltk_data...\n",
      "[nltk_data]   Package stopwords is already up-to-date!\n"
     ]
    },
    {
     "data": {
      "text/plain": [
       "True"
      ]
     },
     "execution_count": 3,
     "metadata": {},
     "output_type": "execute_result"
    }
   ],
   "source": [
    "nltk.download('stopwords')"
   ]
  },
  {
   "cell_type": "code",
   "execution_count": 4,
   "metadata": {},
   "outputs": [],
   "source": [
    "stop_words = set(stopwords.words('english'))"
   ]
  },
  {
   "cell_type": "code",
   "execution_count": 5,
   "metadata": {},
   "outputs": [],
   "source": [
    "echr = load_dataset(\"ecthr_cases\",  \"violation-prediction\")"
   ]
  },
  {
   "cell_type": "code",
   "execution_count": 6,
   "metadata": {},
   "outputs": [],
   "source": [
    "tokenizer = AutoTokenizer.from_pretrained(\"distilbert-base-uncased\")"
   ]
  },
  {
   "cell_type": "code",
   "execution_count": 7,
   "metadata": {},
   "outputs": [],
   "source": [
    "def encode(examples):\n",
    "    return tokenizer( examples[\"text\"],\n",
    "                     truncation=True, \n",
    "                     padding=True)"
   ]
  },
  {
   "cell_type": "code",
   "execution_count": 8,
   "metadata": {},
   "outputs": [],
   "source": [
    "train_dataset, val_dataset, test_dataset = echr['train'], echr['validation'], echr['test']\n",
    "train_dataset, val_dataset, test_dataset = [dataset.map( lambda examples: {\"text\": \"\\n\".join(examples[\"facts\"])}) for dataset in [train_dataset, val_dataset, test_dataset]]\n",
    "train_dataset, val_dataset, test_dataset = [dataset.map(encode, batched=True) for dataset in [train_dataset, val_dataset, test_dataset]]"
   ]
  },
  {
   "cell_type": "code",
   "execution_count": 9,
   "metadata": {},
   "outputs": [
    {
     "name": "stderr",
     "output_type": "stream",
     "text": [
      "Token indices sequence length is longer than the specified maximum sequence length for this model (3506 > 512). Running this sequence through the model will result in indexing errors\n"
     ]
    }
   ],
   "source": [
    "text = train_dataset['text'][1]\n",
    "encoded_text = tokenizer.encode(text)\n",
    "decoded_text = tokenizer.decode(encoded_text)"
   ]
  },
  {
   "cell_type": "code",
   "execution_count": 10,
   "metadata": {},
   "outputs": [
    {
     "data": {
      "text/plain": [
       "'[CLS] 9. the applicant is the monarch of liechtenstein, born in 1945 and living in vaduz ( liechtenstein ). 10. the applicant ’ s late father, the former monarch of liechtenstein, had been the owner of the painting szene an einem romischen kalkofen ( alias der große kalkofen ) of pieter van laer, which had formed part of his family ’ s art collection since at least 1767. until the end of the second world war the painting had been in one of the family ’ s castles on the territory of the now czech republic. 11. in 1946 the former czechoslovakia confiscated the property of the applicant ’ s father which was situated in its territory, including the painting in question, under decree no. 12 on the “ confiscation and accelerated allocation of agricultural property of german and hungarian persons and of those having committed treason and acted as enemies of the czech and slovak people ” ( dekretu prezidenta republiky c. 12 / 1945 sb. o konfiskaci a urychlenem rozdeleni majetku nemcu, mad ’ aru, zradcu a nepratel ), issued by the president of the former czechoslovakia on 21 june 1945 ( “ the benes decrees ” – “ benesovy dekrety ” ). 12. on 21 november 1951 the bratislava administrative court ( spravni soud ) dismissed the appeal lodged by the applicant ’ s father. in its reasoning on the merits of the case, the administrative court stated that the defendant office had come to the conclusion that the appellant was a person of german nationality within the meaning of the provision in article 1 § 1 ( a ) of the decree, on the basis of a finding that this was and had been generally known. it noted that the defence of the complaint directed against this finding was restricted to the representation that this finding was not supported in the files and that, due to this shortcoming, it had not been necessary to deal with the finding in greater detail. the administrative court considered that this approach was mistaken as, under the relevant provision of the administrative regulations, no evidence was required for facts which were generally known and, therefore, it was not necessary for evidence to be contained in the administrative files ; however, counter - evidence against an official finding that a certain fact was generally known would have been admitted. the administrative court concluded that, as the appellant had failed to raise the objection that the issue was not a fact of general knowledge and to contend that he was in a position to bring counter - evidence, the finding of the defendant office had remained uncontested. 13. in 1991 the municipality of cologne obtained the painting as a temporary loan from the brno historical monuments office in the czech republic. 14. on 11 november 1991 the cologne regional court ( landgericht ) granted the applicant ’ s request for an interim injunction ordering the municipality of cologne to hand over the painting to a bailiff at the end of the exhibition. the painting was sequestrated on 17 december 1991. 15. at the beginning of 1992 the applicant instituted proceedings before the cologne regional court against the municipality of cologne, requesting that the defendant consent to the delivery of the painting to him by the bailiff. he argued that, as his late father ’ s heir, he was the owner of the painting. he submitted that the painting had not been subject to expropriation measures in the former czechoslovakia and that in any event such measures were invalid or irrelevant on account of violation of the ordre public of the federal republic of germany. 16. the brno historical monuments office intervened in these proceedings in support of the defendant. it submitted that the applicant ’ s father had lost his ownership of the painting as a result of the confiscation in 1946 and that the lawfulness of this confiscation had been confirmed by the bratislava administrative court in its decision of 21 november 1951. 17. on 10 october 1995 the cologne regional court, following a hearing, declared the applicant ’ s action inadmissible. in the court ’ s view, chapter 6, article 3, of the convention on the settlement of matters arising out of the war and the occupation ( vertrag zur regelung aus krieg und besatzung entstandener fragen – “ the settlement convention ” ) of 23 october 1954 between the united states of america, the united kingdom of great britain and northern ireland, the french republic and the federal republic of germany excluded german jurisdiction over the applicant ’ s case. in its reasoning, the regional court noted that, under the terms of that article ’ s paragraph 3 taken in conjunction with paragraph 1, claims or actions against persons having acquired or transferred title to property on the basis of measures carried out with regard to german external assets or other property, seized for the purpose of reparation or restitution, or as a result of the state of war, or on the basis of specific agreements, were not admissible. these particular provisions had been confirmed upon german unification. according to the regional court, chapter 6, article 3 § 3, of the settlement convention applied, mutatis mutandis, to the applicant ’ s claims against the defendant, which had obtained the painting on loan and had not acquired property, because any review of the aforementioned measures should be excluded. the regional court found that the confiscation of the applicant ’ s father ’ s property under decree no. 12 on the “ confiscation and accelerated allocation of agricultural property of german and hungarian persons and of those having committed treason and acted as enemies of the czech and slovak people ”, issued by the president of the former czechoslovakia on 21 june 1945, constituted a measure within the meaning of chapter 6, article 3 § 3. the regional court rejected, in particular, the applicant ’ s argument that this provision did not apply as it only concerned measures carried out with regard to german external assets or other property and his father had never been a german citizen. in this respect, the court, referring to case - law of the federal court of justice ( bundesgerichtshof ), stated that the view of the confiscating state was decisive. the aim and purpose of this provision, namely to sanction, without any further examination, confiscation measures implemented abroad could only be achieved by excluding such measures from judicial review in germany. moreover, the regional court found that the confiscation measure in question pursued one of the purposes mentioned in chapter 6, article 3 § 3. having regard to german case - law regarding other “ benes decrees ”, especially decree no. 108 on the “ confiscation of enemy property and the national reform fund ”, it considered that decree no. 12, while also pursuing economic aims, was intended to expropriate the property of german and hungarian nationals, that is, “ enemy property ”. the regional court further noted that the applicant ’ s father ’ s painting had been expropriated under decree no. 12. the competent czechoslovakian authorities had interpreted its provisions as applying to the applicant ’ s father, regarding him as a “ person of german nationality ”. the applicant ’ s father had unsuccessfully appealed against this decision which had been confirmed by the bratislava administrative court in 1951. the german courts were not in a position to review the lawfulness of the confiscation at issue. finally, the regional court considered that the painting at issue, as part of the inventory of the agricultural property, had been included in the confiscation measure. the regional court dismissed the applicant ’ s request to suspend the proceedings in order to await the outcome of proceedings to be instituted under the german equalisation of burdens act ( lastenausgleichsgesetz ) concerning compensation for damage and losses due to, inter alia, expulsion and destruction during the second world war and the post - war period in the then soviet - occupied zone of germany and of berlin. the regional court considered that the question underlying the litigation before it would not be clarified in such proceedings. irrespective of the question of whether the plaintiff was of german origin, he had no equalisation claims under the said legislation, which only applied to persons who resided in the federal republic of germany or west berlin on 31 december 1952. in any event, there was no right to compensation for the loss of works of art ( kunstgegenstande ). 18. on 9 july 1996 the cologne court of appeal ( oberlandesgericht ) dismissed the applicant ’ s appeal. the court of appeal confirmed that the applicant ’ s action was inadmissible as german jurisdiction in respect of his claim was excluded under chapter 6, article 3 § 1, in conjunction with paragraph 3, of the settlement convention. the court of appeal considered that the notion of german jurisdiction included the competence, derived from state sovereignty and generally vested by the state in the courts, to administer justice. german jurisdiction was delimited by international agreements, customary international law and the generally recognised rules of international law. chapter 6, article 3 § 3, taken in conjunction with paragraph 1, of the settlements convention excluded german jurisdiction in respect of claims and actions against persons, who, as a consequence of reparation measures, had directly or indirectly acquired title to german property confiscated abroad. the court of appeal confirmed that the provisions in question continued to be in force under the treaty of 12 september 1990 on the final settlement with respect to germany. article 7 of this treaty, which provided for the termination of the operation of quadripartite rights and responsibilities with respect to berlin and germany as a whole, was amended by the agreement of 27 and 28 september 1990 according to which the settlement convention was suspended and later terminated with the exception of the provisions specified in paragraph 3 of that agreement, inter alia, chapter 6, article 3 § § 1 and 3. that agreement was valid under public international law and under german constitutional law. the court of appeal further considered that chapter 6, article 3 § 3, of the settlement convention applied in the applicant ’ s case. in the court ’ s view, this provision was the procedural consequence of the notion that the legal relations resulting from the liquidation of german property abroad by foreign powers for the purpose of reparation were “ final and unchallengeable ” ( endgultigkeit und unanfechtbarkeit ) for the federal republic of germany and the private persons concerned. according to the court of appeal, the applicant ’ s constitutional rights, in particular his right to property, his right of access to a court and his right to a decision by the legally competent court ( gesetzlicher richter ), had not been infringed. basic rights protected individuals against acts of domestic public authorities and not against the exercise of public authority by a foreign state abroad. the domestic legislator was therefore not prevented from limiting domestic legal protection against violations of basic rights by a foreign state if this was necessary to attain more important goals. when applying chapter 6, article 3 § 3, of the settlement convention, the domestic law of the expropriating state concerning the concrete confiscation measure had to be taken into account, as this provision was aimed at excluding litigation in germany regarding confiscation measures based on legislation concerning enemy property. as regards the applicant ’ s objections against the lawfulness, in particular under public international law, of the confiscation and expropriation of his father ’ s property, the court of appeal found that by virtue of chapter 6, article 3 § 3 of the settlement convention, german courts had no jurisdiction. likewise, this provision did not allow recourse to be had to general rules of public international law or to german ordre public when examining the admissibility of the action. the applicant ’ s argument that the provisions of the settlement convention and their application to him as a national and head of a neutral state violated the law of peace was accordingly rejected. according to the court of appeal, the painting at issue constituted external assets within the meaning of chapter 6, article 3 § 1, of the settlement convention, referred to in paragraph 3 of article 3. the court of appeal noted that the applicant ’ s father had indisputably never had german nationality. however, following the case - law of the federal court of justice, it considered that the notion of “ german external assets ” had to be interpreted in the light of the law of the expropriating state. the confiscation in dispute had been found to be in compliance with the legislation of the expropriating state : the competent czechoslovakian administrative authorities as well as the bratislava administrative court had found that presidential decree no. 12 of 21 june 1945 applied to the applicant ’ s father ’ s confiscated property. article 1 § 1 ( a ) of this decree provided for the confiscation of agricultural properties of “ all persons of german or hungarian nationality ” irrespective of their citizenship. the notions of “ german nationality ”, or of “ german origin ” ( “ deutsche volkszugehorigkeit ” ), likewise used at that time, comprised as relevant elements a person ’ s citizenship and nationality, the latter depending on the mother tongue. at the relevant time, the czechoslovakian authorities indisputably regarded the applicant ’ s father as of german origin in that broader sense. the court of appeal also found that the painting at issue, as part of the confiscated agricultural property, had been subject to the expropriation measure. there were no doubts as to the effectiveness of the expropriation, as it was sufficient under the relevant case - law that such expropriations had been implemented and that the previous owners had been deprived of their factual power of disposition. furthermore, the painting had been confiscated for the purpose of reparation within the meaning of chapter 6, article 3 § § 1 and 3, of the settlement agreement. the limitation of the confiscation measures to persons belonging to enemy states in itself justified such a conclusion. the assets of the persons concerned were confiscated as enemy assets. finally, the court of appeal considered that both the defendant and the intervener belonged to the group of persons protected by chapter 6, article 3 § 3, of the settlement agreement. german jurisdiction was excluded whenever the plaintiff intended to challenge measures within the meaning of chapter 6, article 3 § 1. 19. on 25 september 1997 the federal court of justice refused to entertain the applicant ’ s appeal on points of law, as the case was of no fundamental importance and, in any event, had no prospect of success. 20. on 28 january 1998 the third section of the second division ( 3. kammer des zweiten senats ) of the federal constitutional court ( bundesverfassungsgericht ) refused to entertain the applicant ’ s constitutional complaint ( verfassungsbeschwerde ), as it offered no prospect of success. the federal constitutional court considered in particular that, for the purposes of the civil court decisions, questions as to the existence or non - existence of certain rules of customary international law on the confiscation of neutral assets or on the determination of citizenship were irrelevant as they concerned the issue of the lawfulness of the expropriation by the former czechoslovakia. the german civil courts had not decided this issue and, under public international law, they had not been obliged to do so. moreover, to the extent that the civil courts had regarded the expropriation as a measure within the meaning of chapter 6, article 3 § 1, of the settlement convention, they had expressly refrained from qualifying the applicant ’ s father ’ s nationality. their interpretation of the terms “ measures with regard to german external assets ” as comprising any measures which, in the intention of the expropriating state, were directed against german assets, could not be objected to under constitutional law. the bar on litigation did not constitute an agreement to the detriment of liechtenstein, as only the federal republic of germany and its courts were under this treaty obligation. the federal constitutional court further recalled that the exclusion of jurisdiction did not amount to a violation of the right of property as these clauses and the settlement convention as a whole served to settle matters dating back to a time before the entry into force of the german basic law ( grundgesetz ) on 23 may 1949. finally, there was no indication of arbitrariness or of a violation of other constitutional rights. the federal constitutional court confirmed that chapter 6, article 3 § § 1 and 3, of the settlement convention had not been set aside by the treaty on the final settlement with respect to germany : while germany obtained full sovereignty, its obligations under treaties with the three powers were not affected. this had also been the legal opinion of the federal republic of germany and the three powers, which otherwise would not have settled the suspension and termination of parts of the settlement convention in a separate agreement. the decision was served on 2 february 1998. 21. on 9 june 1998 the cologne regional court discharged its interim injunction of 11 november 1991. the bailiff thereupon handed the painting over to the cologne municipality, which had it returned to the czech republic. [SEP]'"
      ]
     },
     "execution_count": 10,
     "metadata": {},
     "output_type": "execute_result"
    }
   ],
   "source": [
    "decoded_text"
   ]
  },
  {
   "cell_type": "code",
   "execution_count": 11,
   "metadata": {},
   "outputs": [],
   "source": [
    "train_df = pd.DataFrame(train_dataset)"
   ]
  },
  {
   "cell_type": "code",
   "execution_count": 13,
   "metadata": {},
   "outputs": [
    {
     "data": {
      "text/plain": [
       "0       . beginning events relevant application, k. da...\n",
       "1       . applicant monarch liechtenstein, born  livin...\n",
       "2       . june  plots agricultural land owned applican...\n",
       "3       .  mr dušan slobodník, research worker field l...\n",
       "4       . applicant italian citizen, born  living oris...\n",
       "                              ...                        \n",
       "8995    . applicant born  lives village karakert, arme...\n",
       "8996    . applicant born  currently detention regensdo...\n",
       "8997    . applicants russian nationals who, material t...\n",
       "8998    . cases applicants brought civil proceedings r...\n",
       "8999    . applicant born  lives pécs. practising lawye...\n",
       "Name: text, Length: 9000, dtype: object"
      ]
     },
     "execution_count": 13,
     "metadata": {},
     "output_type": "execute_result"
    }
   ],
   "source": [
    "train_df['text'].str.lower().str.split().apply(lambda x: [item for item in x if item not in stop_words]).apply(lambda x: \" \".join(x)).replace('\\d+', '', regex=True)"
   ]
  },
  {
   "cell_type": "code",
   "execution_count": null,
   "metadata": {},
   "outputs": [],
   "source": []
  }
 ],
 "metadata": {
  "kernelspec": {
   "display_name": "msc_thesis",
   "language": "python",
   "name": "python3"
  },
  "language_info": {
   "codemirror_mode": {
    "name": "ipython",
    "version": 3
   },
   "file_extension": ".py",
   "mimetype": "text/x-python",
   "name": "python",
   "nbconvert_exporter": "python",
   "pygments_lexer": "ipython3",
   "version": "3.10.13"
  }
 },
 "nbformat": 4,
 "nbformat_minor": 2
}
