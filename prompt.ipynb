{
 "cells": [
  {
   "cell_type": "code",
   "execution_count": 1,
   "metadata": {},
   "outputs": [
    {
     "name": "stderr",
     "output_type": "stream",
     "text": [
      "2024-03-03 11:38:07.002970: E tensorflow/compiler/xla/stream_executor/cuda/cuda_dnn.cc:9342] Unable to register cuDNN factory: Attempting to register factory for plugin cuDNN when one has already been registered\n",
      "2024-03-03 11:38:07.003056: E tensorflow/compiler/xla/stream_executor/cuda/cuda_fft.cc:609] Unable to register cuFFT factory: Attempting to register factory for plugin cuFFT when one has already been registered\n",
      "2024-03-03 11:38:07.006913: E tensorflow/compiler/xla/stream_executor/cuda/cuda_blas.cc:1518] Unable to register cuBLAS factory: Attempting to register factory for plugin cuBLAS when one has already been registered\n",
      "2024-03-03 11:38:07.628954: I tensorflow/core/platform/cpu_feature_guard.cc:182] This TensorFlow binary is optimized to use available CPU instructions in performance-critical operations.\n",
      "To enable the following instructions: AVX2 FMA, in other operations, rebuild TensorFlow with the appropriate compiler flags.\n",
      "2024-03-03 11:38:09.965063: W tensorflow/compiler/tf2tensorrt/utils/py_utils.cc:38] TF-TRT Warning: Could not find TensorRT\n"
     ]
    }
   ],
   "source": [
    "from dotenv import load_dotenv\n",
    "from datasets import load_dataset\n",
    "from transformers import AutoModelForSequenceClassification, AutoTokenizer, TrainingArguments, Trainer\n",
    "import torch\n",
    "from transformers import DataCollatorWithPadding\n",
    "import evaluate\n",
    "import numpy as np\n",
    "from evaluate import evaluator\n",
    "import torch.cuda\n",
    "import os\n",
    "from huggingface_hub import InferenceClient\n"
   ]
  },
  {
   "cell_type": "code",
   "execution_count": 2,
   "metadata": {},
   "outputs": [],
   "source": [
    "load_dotenv()\n",
    "ACCESS_TOKEN = os.environ[\"HUGGING_FACES_TOKEN\"]"
   ]
  },
  {
   "cell_type": "code",
   "execution_count": 3,
   "metadata": {},
   "outputs": [],
   "source": [
    "client = InferenceClient(token=ACCESS_TOKEN)"
   ]
  },
  {
   "cell_type": "code",
   "execution_count": 6,
   "metadata": {},
   "outputs": [
    {
     "data": {
      "application/vnd.jupyter.widget-view+json": {
       "model_id": "161232756c2b4838a46bec8546a3e7db",
       "version_major": 2,
       "version_minor": 0
      },
      "text/plain": [
       "Map:   0%|          | 0/9000 [00:00<?, ? examples/s]"
      ]
     },
     "metadata": {},
     "output_type": "display_data"
    },
    {
     "data": {
      "application/vnd.jupyter.widget-view+json": {
       "model_id": "99002a2b4bca4f1096dbba129f2f1899",
       "version_major": 2,
       "version_minor": 0
      },
      "text/plain": [
       "Map:   0%|          | 0/1000 [00:00<?, ? examples/s]"
      ]
     },
     "metadata": {},
     "output_type": "display_data"
    },
    {
     "data": {
      "application/vnd.jupyter.widget-view+json": {
       "model_id": "09c70abdab2e453081052887c3a27915",
       "version_major": 2,
       "version_minor": 0
      },
      "text/plain": [
       "Map:   0%|          | 0/1000 [00:00<?, ? examples/s]"
      ]
     },
     "metadata": {},
     "output_type": "display_data"
    },
    {
     "data": {
      "application/vnd.jupyter.widget-view+json": {
       "model_id": "22a489075eb04a9c8d001b821813848b",
       "version_major": 2,
       "version_minor": 0
      },
      "text/plain": [
       "Map:   0%|          | 0/9000 [00:00<?, ? examples/s]"
      ]
     },
     "metadata": {},
     "output_type": "display_data"
    },
    {
     "data": {
      "application/vnd.jupyter.widget-view+json": {
       "model_id": "e76cf5f335eb443bb062b7b1f111b488",
       "version_major": 2,
       "version_minor": 0
      },
      "text/plain": [
       "Map:   0%|          | 0/1000 [00:00<?, ? examples/s]"
      ]
     },
     "metadata": {},
     "output_type": "display_data"
    },
    {
     "data": {
      "application/vnd.jupyter.widget-view+json": {
       "model_id": "8c9b0f21db3e44b2b2fc541f2190fa17",
       "version_major": 2,
       "version_minor": 0
      },
      "text/plain": [
       "Map:   0%|          | 0/1000 [00:00<?, ? examples/s]"
      ]
     },
     "metadata": {},
     "output_type": "display_data"
    }
   ],
   "source": [
    "echr = load_dataset(\"ecthr_cases\",  \"violation-prediction\")\n",
    "train_dataset, val_dataset, test_dataset = echr['train'], echr['validation'], echr['test']\n",
    "train_dataset, val_dataset, test_dataset = [dataset.map( lambda examples: {\"text\": \" \".join(examples[\"facts\"])}) for dataset in [train_dataset, val_dataset, test_dataset]]\n",
    "train_dataset, val_dataset, test_dataset = [dataset.map( lambda examples: {'labels' :list(1 if examples['labels'][i] else 0 for i in range(len(examples['labels'])))}, batched=True) for dataset in [train_dataset, val_dataset, test_dataset]]"
   ]
  },
  {
   "cell_type": "code",
   "execution_count": 8,
   "metadata": {},
   "outputs": [
    {
     "name": "stdout",
     "output_type": "stream",
     "text": [
      "Classify the text into VIOLATED, NON_VIOLATED about the result of the case. \n",
      "Text: 5.  The applicant is a journalist for DN.no, a Norwegian Internet-based version of the newspaper Dagens Næringsliv (“DN”), published by the company DN Nye Medier AS. 6.  On 23 June 2010 Mr X was indicted for market manipulation and insider trading under the 1997 Act on the Trade of Financial Assets (verdipapirhandelloven). He was accused of having requested Mr Y, an attorney, to draft a letter concerning the Norwegian Oil Company (“DNO”), a limited liability company quoted on the stock exchange. The letter, addressed to a trustee company representing the interests of bond holders in DNO (“the bond trustee company”), gave the impression that it had been written on behalf of a number of bond holders who were seriously concerned about the company’s liquidity, finances and future. In fact, it had been written only on Mr X’s behalf. He had owned only one bond, which he had acquired the same day as he had asked attorney Y to draft the letter. 7.  Mr X had sent a copy of the above-mentioned letter by fax to the applicant on Friday 24 August 2007, and in this connection he had a telephone conversation with her. The following day, on Saturday 25 August 2007, the applicant wrote an article entitled “Fears of DNO collapse” (“Frykter at DNO rakner”), in which she expressed strong concerns about the content of Attorney Y’s letter, a central feature in the article. 8.  The price of DNO stock fell by 4.1% on Monday 27 August 2007, the first trading day after the content of the letter had become known in the press. On the same day, a new article on the topic was published in DN. Other media also reported on the first article, including an online newspaper (Hegnar online) which on 28 August 2007 reported that an analyst had stated that he would not be surprised if the letter had been sent by a person with a short-position or who wanted cheap stocks. The Oslo stock exchange (Oslo børs) suspected market manipulation and, having looked into the matter, forwarded the case to the Financial Supervisory Authority (Kredittilsynet) with suspicions that Mr X had infringed the Act on the Trade of Financial Assets. During subsequent questioning by the Financial Supervisory Authority, Mr X confirmed that he had initiated the letter and been the source of the article in DN. 9.  The applicant was questioned by the police on 19 June 2008. They informed her that Mr X had told the police that he had given her the letter. She was handed a signed statement from Mr X in which he confirmed this. The applicant was willing to say that she had received the letter on which the article was based by fax on Friday 24 August 2007, at 5.35 p.m. She also stated that the article had been published on DN.no at 3 a.m. on 25 August 2007. The applicant further explained that she had considered the information in the letter as price-sensitive. She had no particular thoughts as to how many persons were behind the letter, beyond the fact that it had been signed on behalf of several bond holders. The applicant refused to give additional information, referring to the journalistic principles on protection of sources. 10.  During the criminal case against Mr X in February 2011 before the Oslo City Court (tingrett), the applicant was summoned as a witness. She refused to answer questions about possible contacts between her and Mr X and other sources, if any, related to the publication by DN.no on 25 August 2007. Relying on Article 125 of the Code of Criminal Procedure and Article 10 of the Convention, she argued that she was under no obligation to give evidence on those points. 11.  The prosecutor requested that the court impose on the applicant an order to testify. In the court records (“rettsboken”), his arguments in favour of issuing such an order are restated as having included the following:\n",
      "“The prosecutor rose to speak and argued that the witness had an obligation to give testimony about her contact with the defendant in connection with the letter to [the bond trustee company] of 24 August 2007 and asked the court to make a decision on the matter. The prosecutor further justified the obligation of the witness to make a statement and argued that undoubtedly in this case it was desirable to hear her explanation, even if the prosecuting authority found the case adequately disclosed (fullgodt opplyst) without her statement. The press was sometimes abused by investors to take actions liable to affect the share price. The element of abuse should suggest that in a case like this the press would also have an interest in making a statement in order to avoid being abused in this way. Whether or not consent had been given by the source to the witness making her statement had no bearing on the obligation to give evidence. ...” 12.  From the same records, it appears that Mr X, through his counsel and co‑counsel, had submitted that he had described his contact with the applicant and that she could contribute nothing further of interest. 13.  By a decision of 15 February 2011, the City Court held that the applicant had a duty to give evidence about her contacts with Mr X in relation to the letter of 24 August 2007 from Attorney Y to the bond trustee company. As to the scope of that duty, the City Court held:\n",
      "“The obligation to make a statement is, however, limited to the contact with the defendant as a source and not her communication with possible other unknown sources with whom she has been in contact and who may be protected by the protection of sources.” 14.  The prosecutor then stated, according to the hearing protocol, “that he would not ask for postponement of the case as the prosecuting authority considers the case to be sufficiently disclosed (“tilstrekkelig opplyst”) even without the statement of the witness [the applicant]”. It was then clarified that the applicant’s appeal against the order would not be forwarded to the High Court until after the City Court’s judgment in the case against Mr X had been delivered. 15.  On 3 March 2011 the City Court convicted Mr X in accordance with the indictment and sentenced him to one year and six months’ imprisonment, of which nine months were suspended for a probationary period of two years. 16.  The judgment contains the following passage:\n",
      "“One of the witnesses pleaded, as a journalist, the protection of sources under Article 125 of the Code of Criminal Procedure and was not willing to explain about her potential contact with the accused. The court held that the witness had an obligation to explain about her contact with the accused since he, as the source of the DN.no article, was known and the court ruled accordingly. An appeal was immediately made against the decision. No motion for extension was made (pending a final decision) as according to the prosecutor the case was sufficiently disclosed (tilstrekkelig opplyst) even without the statement by [the applicant] and this was used as a basis by the court.” 17.  On 28 March 2011 Mr X appealed to the Borgarting High Court (lagmannsrett) against the City Court’s assessment of the evidence and application of the law in relation to the issue of guilt, its procedure and the sentence (see paragraphs 34-36 below). 18.  The applicant appealed to the Borgarting High Court against the City Court’s order of 15 February 2011. It rejected the appeal by a decision of 28 April 2011, finding it generally decisive whether the source was known. In this case, it had been established beyond reasonable doubt that Mr X had been the applicant’s source. 19.  An appeal by the applicant to the Supreme Court was rejected by three votes to two on 30 September 2011 (Norsk Retstidende – Rt. 2011 page 1266). The appeal had been directed at the High Court’s assessment of evidence as well as its application of the law. The disagreement in the Supreme Court concerned primarily the interpretation of the first paragraph of Article 125 of the Code of Criminal Procedure, according to which, inter alia, journalists may refuse to answer questions as to who is the source of information confided to them for use in their work (see paragraph 37 below). The two factions of the Supreme Court disagreed, in particular, as to whether this provision was applicable if the source had stepped forward or the identity of the source had otherwise been established. 20.  The majority observed that it did not appear from the wording of Article 125 § 1 of the Code of Criminal Procedure that it was relevant whether the source had disclosed his or her role or that this role had in other ways become known. However, the wording could not be given decisive weight. It emerged from the preparatory work that the legislature had not, with the chosen formulation, taken a stance on the issue at stake in the present case. There was therefore greater reason to assess whether the rationale underpinning the main rule, namely the right not to answer questions concerning the identity of the source, could also be given significant weight when the person, who had been the source of the information, had given evidence concerning his or her role and had confirmed being the source. It was difficult to see that this should be the case. 21.  If the imposition of an obligation on the press to give evidence were limited to cases where the source had come forward, the person who was considering giving information to the press would know that it was up to him or her to determine whether the person who received the information would have an obligation to give evidence. There was thus no cogent reason why such a conditional obligation to give evidence should lead to increased scepticism towards providing information to the press. The same would, to a great extent, be true if the obligation to give evidence also applied when the identity of the source had become known in some other way. While the possibility that the identity of the source might be disclosed could well constitute a deterrent, it would hardly make much difference if information already known was also confirmed by the recipient of the information. 22.  An obligation on the press to give evidence in such cases was not thought likely to weaken the public’s general trust that the press would protect its sources. The situation under review did not concern the disclosure of sources but rather whether the person’s role had become known by other means. 23.  The majority further disagreed with the applicant’s view that there was no reason to treat a situation, where the informant had identified himself or herself as the source, differently from those cases where the source had consented to being identified. A person who so consented could do so, trusting that the recipient of the information would respect the protection of sources as long as the identity of the source was unknown. Once an informant had confirmed that he was the source, this fact would become known. Should the recipient of the information then refuse to give evidence, this would normally appear futile. In such a situation, an exemption from the obligation to give evidence would in reality not constitute a protection against having to disclose the source, but rather a right to avoid contributing to the elucidation of a criminal case. 24.  Interpreting Article 125 § 1 of the Code of Criminal Procedure in the light of certain statements made in the preparatory work (Ot.prp. nr. 55 (1997-1998), pp. 17 and 18) as followed up in the Supreme Court’s case‑law (Rt. 1995 page 1166 and 2003 page 28), the majority held that this provision did not apply when the source had come forward and had confirmed his or her role. The same ought probably to apply when the identity of the source had been established beyond reasonable doubt by other means. If the state of the evidence was such that confirmation by the journalist of the identity of the source could not be said to assist in identifying the source, it seemed unquestionable to maintain the obligation to testify. 25.  As to whether a more wide-reaching protection of journalistic sources followed from Article 10 of the Convention, the majority had regard to the Strasbourg Court’s case-law, including Goodwin v. the United Kingdom (27 March 1996, Reports of Judgments and Decisions 1996‑II), Financial Times Ltd and Others v. the United Kingdom (no. 821/03, 15 December 2009) and the Chamber judgment in Sanoma Uitgevers B.V. v. the Netherlands (no. 38224/03, 31 March 2009 – noting that the Grand Chamber had decided the latter case on a different ground). They observed that in the two British cases, a violation had been found under the necessity test even though strong countervailing arguments had been present. The majority further noted that there was no decision where the Court had examined the situation where the source had come forward and where in this sense there was no source to protect (“ingen kilde å beskytte”). The principal justification for source protection, as elaborated by the Court in its case-law, was based on the consequences that the disclosure of a source’s identity might have for the free flow of information. However, these considerations did not apply where the source had confirmed his or her participation. 26.  Against this background, one could safely assume that no violation of the Convention would arise where a source had come forward and the obligation of the witness to give evidence had been expressly limited so as not to include questions that might lead to other sources being revealed. Also, the charge in this case had been based on the fact that the journalist had allowed herself to be used by the source in his efforts to manipulate the bonds market in a criminal manner. It was a serious criminal case, where it seemed likely that the applicant’s evidence might significantly assist in elucidating the concrete circumstances of the defendant’s contact with her. 27.  The minority observed that, should the applicant be ordered to testify concerning her possible contact with Mr X about Attorney Y’s letter of 24 August 2007 to the trustee company, she would have to confirm or deny that Mr X was the source for her article on DN.no on 25 August 2007. By making a statement on this matter, she might also inadvertently reveal other potential sources. The legal question at hand was whether a journalist might rely on source protection if the source, without the journalist having revealed it, could be identified with more or less certainty by other evidence. 28.  The wording of Article 125 of the Code of Criminal Procedure was absolute and granted members of the press, broadcasting and other media the right to “refuse to answer questions concerning who is ... the source”. The provision made no exception for cases where the identity could be established with more or less certainty in some other way. 29.  The protection of sources by journalists was, according to the European Court’s case-law, “one of the basic conditions for press freedom” (Goodwin, cited above, § 39). The purpose was not to protect the source, but rather the public interest in free communication of news and opinions (Rt. 2010 page 1381). If journalists were allowed to protect their sources, they would obtain information enabling them to uncover matters in society that were worthy of criticism more easily than they would otherwise. The fact that it was for the journalist to decide to what extent he or she would rely on such protection reflected that it was not the source who was protected. If the journalist was willing to reveal the source, the source could not prevent it. 30.  If it were a precondition for the protection of journalistic sources that no other proof of the source had been presented, such protection would be undermined. This would enable a source to be tracked down, even if a requirement for waiver of source protection was that the source be identified with a criminal standard of proof. If the hearing of evidence on the identity of a source were to be allowed, the media’s working conditions would become considerably more constricted and society’s interest in free communication of information and opinions would suffer. 31.  If consent to source disclosure by a potential source should have the effect of removing source protection, the actual source might easily be identified and source protection would be undermined. In the present case Mr X had stated that he was the source. A situation where someone claimed to be the source ought to be considered in the same way as where the source consented to disclosure of his or her identity. A person might incorrectly claim to be the source so that the actual source might be identified by a process of elimination. And even if it were true that this person was the source, it would erode the journalist’s right to source protection should the person who was the source be able to cancel the journalist’s right. In addition, journalists often had several sources. If a journalist could be ordered to describe his or her contact with a person who claimed to be the source, his or her contact with other sources might also be revealed. 32.  Equally, a combination of someone claiming to be the source and other evidence confirming this, should not lead to source protection being removed. Effective source protection was necessary in order to ensure free communication of information and opinions. It should not be permissible for press journalists to confirm or deny that a person claiming to be the source was in fact the source, even where there was weighty evidence to this effect. As mentioned above, it was not the source, but society’s interest in free communication of news and opinions, which was to be protected. 33.  The prosecutor had argued that Mr X had used the applicant as a tool to commit serious crimes, and this would have constituted a relevant argument, had the case been one concerning a possible individual exception to the right to non-disclosure of sources made under the third paragraph of Article 125. However, the prosecutor had not relied on that paragraph of the provision, and the source’s motive could not render the principle of source protection as such inapplicable. Within the ambit of Article 10 of the Convention, freedom of speech did not protect only information and views that were positively received, but also those which offended, shocked or disturbed the State or parts of the population. Therefore, the fundamental right of journalists to protect their sources could not be dependent on the sources’ motives. 34.  Mr X’s appeal against the City Court’s judgment of 3 March 2011 (see paragraph 17 above) was examined by the High Court, which summoned and heard the applicant as a witness on 13 January 2012. She answered certain questions but affirmed that she still would not reply to questions about her contacts with Mr X. The court records contain the following passage:\n",
      "“When heard as a witness [the applicant] stated that she had received Attorney [Y]’s letter by fax on 24 August 2007 at 5.35 p.m. She does not wish to answer questions about who she had received the letter from or on her possible contact with Mr [X] during the period before or after this point in time. The presiding judge pointed out to the witness that after a legally enforceable decision by the Supreme Court she was obliged to give evidence about her contacts with Mr [X]. The presiding judge underlined that an omission to reply to such questions could constitute a ground for the imposition of a fine for an offence against the good order of court proceedings [“rettergangsbot”]. It was emphasised that the duty to reply lay on the witness personally and that a possible fine would be imposed on her personally.” 35.  On account of her refusal to comply, the High Court, by a decision of 25 January 2012, ordered the applicant to pay a fine of 30,000 Norwegian kroner (NOK), approximately 3,700 euro (EUR) for an offence against the good order of court proceedings, failing which she would be liable to ten days’ imprisonment. The applicant did not appeal against that decision. 36.  By a judgment of the same date, the High Court convicted Mr X on the charges and sentenced him to one year and six months’ imprisonment. 37.  The relevant articles of the Code of Criminal Procedure of 22 May 1981 (straffeprosessloven) read as follows:\n",
      "“Article 108. Unless otherwise provided by statute, every person summoned to attend as a witness is bound to do so and to give evidence before the court.\n",
      "Article 125. The editor of a printed publication may refuse to answer questions as to who is the author of an article or report in the publication or the source of any information contained in it. The same applies to questions as to who is the source of other information that has been confided to the editor for use in his work.\n",
      "Other persons who have acquired knowledge of the author or the source through their work for the publishers, editors, press agency or printers in question have the same right as the editor.\n",
      "When important social interests indicate that the information should be given and it is of substantial significance for the clarification of the case, the court may, however, on an overall evaluation, order the witness to reveal the name. If the author or source has revealed matters that it was socially important to disclose, the witness may be ordered to reveal the name only when this is found to be particularly necessary.\n",
      "When an answer is given, the court may decide that it shall only be given to the court and the parties at a sitting in camera and under an order to observe a duty of secrecy.\n",
      "The provisions of this section apply correspondingly to any director or employee of any broadcasting agency.”\n",
      "There is extensive Supreme Court case-law concerning the main rule in Article 125 § 1 about the protection of journalists’ sources and the exception clause in Article 125 § 3 (see, for instance, paragraph 24 above). The Supreme Court interprets the provision in the light of Article 10 of the Convention. 38.  Section 205 § 1 of the Act Relating to the Courts of Justice of 13 August 1915 (domstolloven) reads:\n",
      "“Where a witness refuses to give evidence or give affirmation and provides no grounds or provides only those grounds that are dismissed by a legally enforceable ruling, said witness may be penalised by fines and ordered to compensate, in whole or in part, for the costs incurred. A party may also be penalised by fines in cases concerning attachment or garnishment of earnings, where he/she wilfully fails to provide the enforcement authority with the information said party is obligated to provide pursuant to the Enforcement Act, §§ 7-12.” 39.  In 2011 the UN Human Rights Committee adopted General Comment no. 34 concerning Article 19 of the International Covenant on Civil and Political Rights (CCPR/C/GC/34), which reads, inter alia, (footnote omitted):\n",
      "“States parties should recognize and respect that element of the right of freedom of expression that embraces the limited journalistic privilege not to disclose information sources.” 40.  On 8 September 2015 the Special Rapporteur on the promotion and protection of the right to freedom of opinion and expression submitted a report to the UN General Assembly (A/70/361), which stated, inter alia (footnotes omitted):\n",
      "“C. Nature and scope of protection 21.  Some authorities refer to a journalistic ‘privilege’ not to disclose a source’s identity, but both reporter and source enjoy rights that may be limited only according to article 19 (3). Revealing or coercing the revelation of the identity of a source creates disincentives for disclosure, dries up further sources to report a story accurately and damages an important tool of accountability. In the light of the importance attached to source confidentiality, any restrictions must be genuinely exceptional and subject to the highest standards, implemented by judicial authorities only. Such situations should be limited to investigations of the most serious crimes or the protection of the life of other individuals. 22.  National laws should ensure that protections apply strictly, with extremely limited exceptions. Under Belgian law, journalists and editorial staff may be compelled by a judge to disclose information sources only if they are of a nature to prevent crimes that pose a serious threat to the physical integrity of one or more persons, and upon a finding of the following two cumulative conditions: (a) the information is of crucial importance for preventing such crimes; and (b) the information cannot be obtained by any other means. The same conditions apply to investigative measures, such as searches, seizures and telephone tapping, with respect to journalistic sources.” 41.  Other international instruments concerning the protection of journalistic sources include the Resolution on Journalistic Freedoms and Human Rights, adopted at the 4th European Ministerial Conference on Mass Media Policy (Prague, 7-8 December 1994), and Recommendation No. R (2000) 7 on the right of journalists not to disclose their sources of information, adopted by the Committee of Ministers of the Council of Europe on 8 March 2000. Relevant parts of the Recommendation, with the explanatory report, are quoted in Voskuil v. the Netherlands, no. 64752/01, §§ 43-44, 22 November 2007, inter alia:\n",
      "“Principle 3 (Limits to the right of non-disclosure)\n",
      "a.  The right of journalists not to disclose information identifying a source must not be subject to other restrictions than those mentioned in Article 10, paragraph 2 of the Convention. In determining whether a legitimate interest in a disclosure falling within the scope of Article 10, paragraph 2 of the Convention outweighs the public interest in not disclosing information identifying a source, competent authorities of member States shall pay particular regard to the importance of the right of non-disclosure and the pre-eminence given to it in the case-law of the European Court of Human Rights, and may only order a disclosure if, subject to paragraph b, there exists an overriding requirement in the public interest and if circumstances are of a sufficiently vital and serious nature.\n",
      "b.  The disclosure of information identifying a source should not be deemed necessary unless it can be convincingly established that:\n",
      "i.  reasonable alternative measures to the disclosure do not exist or have been exhausted by the persons or public authorities that seek the disclosure, and\n",
      "ii.  the legitimate interest in the disclosure clearly outweighs the public interest in the non-disclosure, bearing in mind that:\n",
      "- an overriding requirement of the need for disclosure is proved,\n",
      "- the circumstances are of a sufficiently vital and serious nature,\n",
      "- the necessity of the disclosure is identified as responding to a pressing social need, and\n",
      "- member States enjoy a certain margin of appreciation in assessing this need, but this margin goes hand in hand with the supervision by the European Court of Human Rights.\n",
      "c.  The above requirements should be applied at all stages of any proceedings where the right of non-disclosure might be invoked.”\n",
      "In the present case, the following paragraphs of the explanatory report are also of relevance:\n",
      "“d.  Information identifying a source 18. In order to protect the identity of a source adequately, it is necessary to protect all kinds of information which are likely to lead to the identification of a source. The potential to identify a source therefore determines the type of protected information and the range of such protection. As far as its disclosure may lead to an identification of a source, the following information shall be protected by this Recommendation:\n",
      "i.  the name of a source and his or her address, telephone and telefax number, employer’s name and other personal data as well as the voice of the source and pictures showing a source;\n",
      "ii.  ’the factual circumstances of acquiring this information’, for example the time and place of a meeting with a source, the means of correspondence used or the particularities agreed between a source and a journalist;\n",
      "...”.\n",
      "Result:\n",
      "\n"
     ]
    }
   ],
   "source": [
    "prompt = f\"\"\"Classify the text into VIOLATED, NON_VIOLATED about the result of the case. \n",
    "Text: {test_dataset[0]['text']}.\n",
    "Result:\n",
    "\"\"\"\n",
    "print(prompt)"
   ]
  },
  {
   "cell_type": "code",
   "execution_count": 6,
   "metadata": {},
   "outputs": [
    {
     "ename": "HfHubHTTPError",
     "evalue": "500 Server Error: Internal Server Error for url: https://api-inference.huggingface.co/models/l-yohai/bigbird-roberta-base-mnli (Request ID: 1-UYHq-Nvrh9D4N_NaFAz)\n\nunknown error",
     "output_type": "error",
     "traceback": [
      "\u001b[0;31m---------------------------------------------------------------------------\u001b[0m",
      "\u001b[0;31mHTTPError\u001b[0m                                 Traceback (most recent call last)",
      "File \u001b[0;32m~/anaconda3/envs/msc_thesis/lib/python3.10/site-packages/huggingface_hub/utils/_errors.py:261\u001b[0m, in \u001b[0;36mhf_raise_for_status\u001b[0;34m(response, endpoint_name)\u001b[0m\n\u001b[1;32m    260\u001b[0m \u001b[38;5;28;01mtry\u001b[39;00m:\n\u001b[0;32m--> 261\u001b[0m     \u001b[43mresponse\u001b[49m\u001b[38;5;241;43m.\u001b[39;49m\u001b[43mraise_for_status\u001b[49m\u001b[43m(\u001b[49m\u001b[43m)\u001b[49m\n\u001b[1;32m    262\u001b[0m \u001b[38;5;28;01mexcept\u001b[39;00m HTTPError \u001b[38;5;28;01mas\u001b[39;00m e:\n",
      "File \u001b[0;32m~/anaconda3/envs/msc_thesis/lib/python3.10/site-packages/requests/models.py:1021\u001b[0m, in \u001b[0;36mResponse.raise_for_status\u001b[0;34m(self)\u001b[0m\n\u001b[1;32m   1020\u001b[0m \u001b[38;5;28;01mif\u001b[39;00m http_error_msg:\n\u001b[0;32m-> 1021\u001b[0m     \u001b[38;5;28;01mraise\u001b[39;00m HTTPError(http_error_msg, response\u001b[38;5;241m=\u001b[39m\u001b[38;5;28mself\u001b[39m)\n",
      "\u001b[0;31mHTTPError\u001b[0m: 500 Server Error: Internal Server Error for url: https://api-inference.huggingface.co/models/l-yohai/bigbird-roberta-base-mnli",
      "\nThe above exception was the direct cause of the following exception:\n",
      "\u001b[0;31mHfHubHTTPError\u001b[0m                            Traceback (most recent call last)",
      "Cell \u001b[0;32mIn[6], line 1\u001b[0m\n\u001b[0;32m----> 1\u001b[0m \u001b[43mclient\u001b[49m\u001b[38;5;241;43m.\u001b[39;49m\u001b[43mtext_generation\u001b[49m\u001b[43m(\u001b[49m\u001b[43mprompt\u001b[49m\u001b[43m,\u001b[49m\u001b[43m \u001b[49m\u001b[43mmodel\u001b[49m\u001b[38;5;241;43m=\u001b[39;49m\u001b[38;5;124;43m\"\u001b[39;49m\u001b[38;5;124;43ml-yohai/bigbird-roberta-base-mnli\u001b[39;49m\u001b[38;5;124;43m\"\u001b[39;49m\u001b[43m)\u001b[49m\n",
      "File \u001b[0;32m~/anaconda3/envs/msc_thesis/lib/python3.10/site-packages/huggingface_hub/inference/_client.py:1527\u001b[0m, in \u001b[0;36mInferenceClient.text_generation\u001b[0;34m(self, prompt, details, stream, model, do_sample, max_new_tokens, best_of, repetition_penalty, return_full_text, seed, stop_sequences, temperature, top_k, top_p, truncate, typical_p, watermark, decoder_input_details)\u001b[0m\n\u001b[1;32m   1506\u001b[0m         _set_as_non_tgi(model)\n\u001b[1;32m   1507\u001b[0m         \u001b[38;5;28;01mreturn\u001b[39;00m \u001b[38;5;28mself\u001b[39m\u001b[38;5;241m.\u001b[39mtext_generation(  \u001b[38;5;66;03m# type: ignore\u001b[39;00m\n\u001b[1;32m   1508\u001b[0m             prompt\u001b[38;5;241m=\u001b[39mprompt,\n\u001b[1;32m   1509\u001b[0m             details\u001b[38;5;241m=\u001b[39mdetails,\n\u001b[0;32m   (...)\u001b[0m\n\u001b[1;32m   1525\u001b[0m             decoder_input_details\u001b[38;5;241m=\u001b[39mdecoder_input_details,\n\u001b[1;32m   1526\u001b[0m         )\n\u001b[0;32m-> 1527\u001b[0m     \u001b[43mraise_text_generation_error\u001b[49m\u001b[43m(\u001b[49m\u001b[43me\u001b[49m\u001b[43m)\u001b[49m\n\u001b[1;32m   1529\u001b[0m \u001b[38;5;66;03m# Parse output\u001b[39;00m\n\u001b[1;32m   1530\u001b[0m \u001b[38;5;28;01mif\u001b[39;00m stream:\n",
      "File \u001b[0;32m~/anaconda3/envs/msc_thesis/lib/python3.10/site-packages/huggingface_hub/inference/_text_generation.py:480\u001b[0m, in \u001b[0;36mraise_text_generation_error\u001b[0;34m(http_error)\u001b[0m\n\u001b[1;32m    477\u001b[0m         \u001b[38;5;28;01mraise\u001b[39;00m ValidationError(message) \u001b[38;5;28;01mfrom\u001b[39;00m \u001b[38;5;21;01mhttp_error\u001b[39;00m\n\u001b[1;32m    479\u001b[0m \u001b[38;5;66;03m# Otherwise, fallback to default error\u001b[39;00m\n\u001b[0;32m--> 480\u001b[0m \u001b[38;5;28;01mraise\u001b[39;00m http_error\n",
      "File \u001b[0;32m~/anaconda3/envs/msc_thesis/lib/python3.10/site-packages/huggingface_hub/inference/_client.py:1503\u001b[0m, in \u001b[0;36mInferenceClient.text_generation\u001b[0;34m(self, prompt, details, stream, model, do_sample, max_new_tokens, best_of, repetition_penalty, return_full_text, seed, stop_sequences, temperature, top_k, top_p, truncate, typical_p, watermark, decoder_input_details)\u001b[0m\n\u001b[1;32m   1501\u001b[0m \u001b[38;5;66;03m# Handle errors separately for more precise error messages\u001b[39;00m\n\u001b[1;32m   1502\u001b[0m \u001b[38;5;28;01mtry\u001b[39;00m:\n\u001b[0;32m-> 1503\u001b[0m     bytes_output \u001b[38;5;241m=\u001b[39m \u001b[38;5;28;43mself\u001b[39;49m\u001b[38;5;241;43m.\u001b[39;49m\u001b[43mpost\u001b[49m\u001b[43m(\u001b[49m\u001b[43mjson\u001b[49m\u001b[38;5;241;43m=\u001b[39;49m\u001b[43mpayload\u001b[49m\u001b[43m,\u001b[49m\u001b[43m \u001b[49m\u001b[43mmodel\u001b[49m\u001b[38;5;241;43m=\u001b[39;49m\u001b[43mmodel\u001b[49m\u001b[43m,\u001b[49m\u001b[43m \u001b[49m\u001b[43mtask\u001b[49m\u001b[38;5;241;43m=\u001b[39;49m\u001b[38;5;124;43m\"\u001b[39;49m\u001b[38;5;124;43mtext-generation\u001b[39;49m\u001b[38;5;124;43m\"\u001b[39;49m\u001b[43m,\u001b[49m\u001b[43m \u001b[49m\u001b[43mstream\u001b[49m\u001b[38;5;241;43m=\u001b[39;49m\u001b[43mstream\u001b[49m\u001b[43m)\u001b[49m  \u001b[38;5;66;03m# type: ignore\u001b[39;00m\n\u001b[1;32m   1504\u001b[0m \u001b[38;5;28;01mexcept\u001b[39;00m HTTPError \u001b[38;5;28;01mas\u001b[39;00m e:\n\u001b[1;32m   1505\u001b[0m     \u001b[38;5;28;01mif\u001b[39;00m \u001b[38;5;28misinstance\u001b[39m(e, BadRequestError) \u001b[38;5;129;01mand\u001b[39;00m \u001b[38;5;124m\"\u001b[39m\u001b[38;5;124mThe following `model_kwargs` are not used by the model\u001b[39m\u001b[38;5;124m\"\u001b[39m \u001b[38;5;129;01min\u001b[39;00m \u001b[38;5;28mstr\u001b[39m(e):\n",
      "File \u001b[0;32m~/anaconda3/envs/msc_thesis/lib/python3.10/site-packages/huggingface_hub/inference/_client.py:238\u001b[0m, in \u001b[0;36mInferenceClient.post\u001b[0;34m(self, json, data, model, task, stream)\u001b[0m\n\u001b[1;32m    235\u001b[0m         \u001b[38;5;28;01mraise\u001b[39;00m InferenceTimeoutError(\u001b[38;5;124mf\u001b[39m\u001b[38;5;124m\"\u001b[39m\u001b[38;5;124mInference call timed out: \u001b[39m\u001b[38;5;132;01m{\u001b[39;00murl\u001b[38;5;132;01m}\u001b[39;00m\u001b[38;5;124m\"\u001b[39m) \u001b[38;5;28;01mfrom\u001b[39;00m \u001b[38;5;21;01merror\u001b[39;00m\n\u001b[1;32m    237\u001b[0m \u001b[38;5;28;01mtry\u001b[39;00m:\n\u001b[0;32m--> 238\u001b[0m     \u001b[43mhf_raise_for_status\u001b[49m\u001b[43m(\u001b[49m\u001b[43mresponse\u001b[49m\u001b[43m)\u001b[49m\n\u001b[1;32m    239\u001b[0m     \u001b[38;5;28;01mreturn\u001b[39;00m response\u001b[38;5;241m.\u001b[39miter_lines() \u001b[38;5;28;01mif\u001b[39;00m stream \u001b[38;5;28;01melse\u001b[39;00m response\u001b[38;5;241m.\u001b[39mcontent\n\u001b[1;32m    240\u001b[0m \u001b[38;5;28;01mexcept\u001b[39;00m HTTPError \u001b[38;5;28;01mas\u001b[39;00m error:\n",
      "File \u001b[0;32m~/anaconda3/envs/msc_thesis/lib/python3.10/site-packages/huggingface_hub/utils/_errors.py:303\u001b[0m, in \u001b[0;36mhf_raise_for_status\u001b[0;34m(response, endpoint_name)\u001b[0m\n\u001b[1;32m    299\u001b[0m     \u001b[38;5;28;01mraise\u001b[39;00m BadRequestError(message, response\u001b[38;5;241m=\u001b[39mresponse) \u001b[38;5;28;01mfrom\u001b[39;00m \u001b[38;5;21;01me\u001b[39;00m\n\u001b[1;32m    301\u001b[0m \u001b[38;5;66;03m# Convert `HTTPError` into a `HfHubHTTPError` to display request information\u001b[39;00m\n\u001b[1;32m    302\u001b[0m \u001b[38;5;66;03m# as well (request id and/or server error message)\u001b[39;00m\n\u001b[0;32m--> 303\u001b[0m \u001b[38;5;28;01mraise\u001b[39;00m HfHubHTTPError(\u001b[38;5;28mstr\u001b[39m(e), response\u001b[38;5;241m=\u001b[39mresponse) \u001b[38;5;28;01mfrom\u001b[39;00m \u001b[38;5;21;01me\u001b[39;00m\n",
      "\u001b[0;31mHfHubHTTPError\u001b[0m: 500 Server Error: Internal Server Error for url: https://api-inference.huggingface.co/models/l-yohai/bigbird-roberta-base-mnli (Request ID: 1-UYHq-Nvrh9D4N_NaFAz)\n\nunknown error"
     ]
    }
   ],
   "source": [
    "client.text_generation(prompt, model=\"l-yohai/bigbird-roberta-base-mnli\")"
   ]
  }
 ],
 "metadata": {
  "kernelspec": {
   "display_name": "msc_thesis",
   "language": "python",
   "name": "python3"
  },
  "language_info": {
   "codemirror_mode": {
    "name": "ipython",
    "version": 3
   },
   "file_extension": ".py",
   "mimetype": "text/x-python",
   "name": "python",
   "nbconvert_exporter": "python",
   "pygments_lexer": "ipython3",
   "version": "3.10.13"
  }
 },
 "nbformat": 4,
 "nbformat_minor": 2
}
